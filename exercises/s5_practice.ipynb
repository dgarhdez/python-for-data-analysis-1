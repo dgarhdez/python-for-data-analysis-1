{
 "cells": [
  {
   "cell_type": "markdown",
   "metadata": {},
   "source": [
    "# Session 5: Asynchronous exercises"
   ]
  },
  {
   "cell_type": "markdown",
   "metadata": {},
   "source": [
    "## Exercise 1\n",
    "\n",
    "Remember our class about conditionals and loops, where we were checking conditions (with only True/False value) and depending on the value, take different actions.\n",
    "\n",
    "```Python\n",
    "if condition:  # if condition is True\n",
    "    do_something\n",
    "else:  # if it's not True\n",
    "    do_something_else\n",
    "```\n",
    "\n",
    "Also, and since the code is read from top to bottom, evaluating each statement once at a time, if a condition is included in a posterior condition -- this is, the second one is more restrictive -- then only the first one will be evaluated in a `if-elif-else` structure."
   ]
  },
  {
   "cell_type": "code",
   "execution_count": 1,
   "metadata": {},
   "outputs": [
    {
     "name": "stdout",
     "output_type": "stream",
     "text": [
      "a < 4\n"
     ]
    }
   ],
   "source": [
    "a = 1\n",
    "\n",
    "if a < 4:  # True\n",
    "    print(\"a < 4\")  # This is going to be printed\n",
    "elif a < 2:  # True, but already found a previous True to go through\n",
    "    print(\"a < 2\")  # This one should be printed too, since a < 2!!\n",
    "else:\n",
    "    print(\"a >= 4\")"
   ]
  },
  {
   "cell_type": "markdown",
   "metadata": {},
   "source": [
    "The previous snippet should've printed `a < 2` since `a = 1`. But since `a < 4` is `True` and evaluated *before* the `elif`, then the elif in this case is not evaluated.\n",
    "\n",
    "The key here is to evaluate the *more restrictive* condition first in the `if`, and then reduce the restrictions with `elif`s."
   ]
  },
  {
   "cell_type": "code",
   "execution_count": 2,
   "metadata": {},
   "outputs": [
    {
     "name": "stdout",
     "output_type": "stream",
     "text": [
      "a < 2\n"
     ]
    }
   ],
   "source": [
    "a = 1\n",
    "\n",
    "if a < 2:  # most restrictive condition\n",
    "    print(\"a < 2\")\n",
    "elif a < 4:  # second most restrictive condition\n",
    "    print(\"a < 4\")\n",
    "else:\n",
    "    print(\"a >= 4\")"
   ]
  },
  {
   "cell_type": "markdown",
   "metadata": {},
   "source": [
    "Taking this into account, please build a classic piece of code --Fizzbuzz.\n",
    "\n",
    "FizzBuzz:\n",
    "* Print all the numbers from 1 to 100, with the following conditions:\n",
    "    - If the number is divisible by 3, print `Fizz` instead of the number\n",
    "    - If the number is divisible by 5, print `Buzz` instead of the number\n",
    "    - If the number is divisible by 3 and 5 both, print `FizzBuzz` instead of the number\n",
    "    \n",
    "The solution looks like this:\n",
    "* 1, 2, Fizz, 4, Buzz, Fizz, ...\n",
    "    \n",
    "(Yes, this exercise was supposed to be done in class, but who doesn't like a challenge?)"
   ]
  },
  {
   "cell_type": "code",
   "execution_count": 3,
   "metadata": {
    "tags": []
   },
   "outputs": [
    {
     "name": "stdout",
     "output_type": "stream",
     "text": [
      "1\n",
      "2\n",
      "Fizz\n",
      "4\n",
      "Buzz\n",
      "Fizz\n",
      "7\n",
      "8\n",
      "Fizz\n",
      "Buzz\n",
      "11\n",
      "Fizz\n",
      "13\n",
      "14\n",
      "FizzBuzz\n",
      "16\n",
      "17\n",
      "Fizz\n",
      "19\n",
      "Buzz\n",
      "Fizz\n",
      "22\n",
      "23\n",
      "Fizz\n",
      "Buzz\n",
      "26\n",
      "Fizz\n",
      "28\n",
      "29\n",
      "FizzBuzz\n",
      "31\n",
      "32\n",
      "Fizz\n",
      "34\n",
      "Buzz\n",
      "Fizz\n",
      "37\n",
      "38\n",
      "Fizz\n",
      "Buzz\n",
      "41\n",
      "Fizz\n",
      "43\n",
      "44\n",
      "FizzBuzz\n",
      "46\n",
      "47\n",
      "Fizz\n",
      "49\n",
      "Buzz\n",
      "Fizz\n",
      "52\n",
      "53\n",
      "Fizz\n",
      "Buzz\n",
      "56\n",
      "Fizz\n",
      "58\n",
      "59\n",
      "FizzBuzz\n",
      "61\n",
      "62\n",
      "Fizz\n",
      "64\n",
      "Buzz\n",
      "Fizz\n",
      "67\n",
      "68\n",
      "Fizz\n",
      "Buzz\n",
      "71\n",
      "Fizz\n",
      "73\n",
      "74\n",
      "FizzBuzz\n",
      "76\n",
      "77\n",
      "Fizz\n",
      "79\n",
      "Buzz\n",
      "Fizz\n",
      "82\n",
      "83\n",
      "Fizz\n",
      "Buzz\n",
      "86\n",
      "Fizz\n",
      "88\n",
      "89\n",
      "FizzBuzz\n",
      "91\n",
      "92\n",
      "Fizz\n",
      "94\n",
      "Buzz\n",
      "Fizz\n",
      "97\n",
      "98\n",
      "Fizz\n",
      "Buzz\n"
     ]
    }
   ],
   "source": [
    "# FizzBuzz\n",
    "\n",
    "for num in range(1, 101):\n",
    "    if num % 5 == 0 and num % 3 == 0:\n",
    "        print(\"FizzBuzz\")\n",
    "    elif num % 3 == 0:\n",
    "        print(\"Fizz\")\n",
    "    elif num % 5 == 0:\n",
    "        print(\"Buzz\")\n",
    "    else:\n",
    "        print(num)"
   ]
  },
  {
   "cell_type": "markdown",
   "metadata": {},
   "source": [
    "## Exercise 2\n",
    "\n",
    "Please find attached a list containing tuples with the following information:\n",
    "\n",
    "```Python\n",
    "[ \n",
    "    (\"last_name_1\", \"name_1\", \"email_1\"), \n",
    "    (\"last_name_2\", \"name_2\", \"email_2\"), \n",
    "    ...\n",
    "    (\"last_name_n\", \"name_n\", \"email_n\"), \n",
    "]\n",
    "```"
   ]
  },
  {
   "cell_type": "code",
   "execution_count": 4,
   "metadata": {},
   "outputs": [],
   "source": [
    "class_list = [\n",
    "    ('ADROER I GRAS', 'MIREIA', 'mireia.adroer@student.ie.edu'),\n",
    "    ('AGRAWAL', 'KRISHNA', 'krishnaagrawal@student.ie.edu'),\n",
    "    ('ALBUS', 'NIKLAS', 'niklas.albus@student.ie.edu'),\n",
    "    ('ALMAKAINZI', 'JUMANA', 'almakjfa@student.ie.edu'),\n",
    "    ('ASSMUTH OREJA', 'CELIA', 'celia.assmuthoreja@student.ie.edu'),\n",
    "    ('BAREUTHER', 'ROBERT ELLIS', 'rbareuther@student.ie.edu'),\n",
    "    ('BETANCUR BOTERO', 'JUAN LUIS', 'juan.betancur@student.ie.edu'),\n",
    "    ('BLETHON', 'PIERRE', 'pierreblethon@student.ie.edu'),\n",
    "    ('BOLHUIS', 'QUIRIJN', 'quirijnbolhuis@student.ie.edu'),\n",
    "    ('CILIA', 'MARTINA', 'martina.cilia@student.ie.edu'),\n",
    "    ('CÁCERES GONZÁLEZ', 'ALFREDO DANIEL', 'acaceresg@student.ie.edu'),\n",
    "    ('DARWICHE HAMMOUD', 'NOUR', 'nourdarwiche@student.ie.edu'),\n",
    "    ('DE MAINTENANT', 'ANTOINE', 'antoinedemaintenant@student.ie.edu'),\n",
    "    ('DRAGO BRAGA', 'CONSTANÇA', 'constanca_braga@student.ie.edu'),\n",
    "    ('DZHANERYAN', 'MIKAEL', 'dzhaneryan.mikael@student.ie.edu'),\n",
    "    ('D´ELIA CERCHI', 'EMILIANO', 'emiliano.delia@student.ie.edu'),\n",
    "    ('ELMONOFY', 'ALI', 'ali.elmonofy@student.ie.edu'),\n",
    "    ('ELREFAIE', 'SEIF MOHAMED EMAM', 'seifelrefaie2021@student.ie.edu'),\n",
    "    ('FAYOS GARCÍA', 'EMMA', 'emma.fayos@student.ie.edu'),\n",
    "    ('FERMIN', 'MARIO HERNAN', 'mario.fermin@student.ie.edu'),\n",
    "    ('GARATE ARIAS', 'DIEGO', 'diego.garate@student.ie.edu'),\n",
    "    ('GAVALI SUNIL', 'ADITYA', 'aditya.gavali@student.ie.edu'),\n",
    "    ('GONZALEZ GRANERO', 'IGNACIO', 'ignaciogonzalez@student.ie.edu'),\n",
    "    ('GONZÁLEZ BOHÓRQUEZ', 'IGNACIO', 'ignagabo1997@student.ie.edu'),\n",
    "    ('GROSS', 'ALEXANDER', 'alexander.gross@student.ie.edu'),\n",
    "    ('HAO', 'SHUANGYAN', 'shuangyan.hao@student.ie.edu'),\n",
    "    ('HOPKINS PÉREZ', 'MIGUEL RICARDO', 'miguel@student.ie.edu'),\n",
    "    ('HUMBERT RUSODIMOS', 'IVAN', 'ihumbert@student.ie.edu'),\n",
    "    ('HUPPERICH', 'MANUEL', 'hupperich.manuel@student.ie.edu'),\n",
    "    ('KERNO GALLARDO', 'PHILIPPE', 'phil.kerno@student.ie.edu'),\n",
    "    ('MAHMOUD', 'KHALED', 'khaled.mahmoud@student.ie.edu'),\n",
    "    ('MALDONADO MORENO', 'JUAN MANUEL', 'juan.manuel@student.ie.edu'),\n",
    "    ('MARINA HERRERA', 'MANUEL', 'manuel.marina@student.ie.edu'),\n",
    "    ('MARKOWETZ', 'ANNA', 'anna.markowetz@student.ie.edu'),\n",
    "    ('MATA SARAVIA', 'DIEGO', 'diego.mata@student.ie.edu'),\n",
    "    ('MATHAY', 'ALEXANDRA MARIA O.', 'alexandra.mathay@student.ie.edu'),\n",
    "    ('MATSUI', 'SHOICHI', 'shoichi.matsui@student.ie.edu'),\n",
    "    ('MISSURA DONOSO', 'MARIA GRACIELA', 'maria.missura@student.ie.edu'),\n",
    "    ('MONTALVO PUCCINI', 'ORLANDO', 'orlando.montalvo@student.ie.edu'),\n",
    "    ('NEBULONI', 'MARCO', 'marco.nebuloni@student.ie.edu'),\n",
    "    ('PALACÍN GÓMEZ', 'GUILLERMO', 'gpalacin@student.ie.edu'),\n",
    "    ('RAAD', 'NADINE', 'nadine.raad@student.ie.edu'),\n",
    "    ('RIBES', 'PAUL', 'paulribes@student.ie.edu'),\n",
    "    ('RIGAUDEAU', 'TIMOTHÉ RAFFAELLO ANTOINE', 'timorigaudeau@student.ie.edu'),\n",
    "    ('ROSSIER', 'PATRICK', 'patrick.rossier@student.ie.edu'),\n",
    "    ('SCHEIBLING', 'DIEGO', 'diego.scheibling@student.ie.edu'),\n",
    "    ('SEYNAEVE', 'ALICE', 'aliceseynaeve@student.ie.edu'),\n",
    "    ('STENGER', 'THOMAS AUGUST MARIA', 'thomas.stenger@student.ie.edu'),\n",
    "    ('SUÁREZ PINTO', 'FERNANDO', 'fernando.suarez@student.ie.edu'),\n",
    "    ('TRUYTS', 'THOMAS', 'thomas.truyts@student.ie.edu'),\n",
    "    ('VAN GINDERACHTER', 'PALOMA', 'p.vanginderachter@student.ie.edu'),\n",
    "    ('VON STOCKAR-SCHERER-CASTELL', 'ERIC DANIEL MARC', 'evstockar@student.ie.edu'),\n",
    "    ('VON WEDEMEYER', 'HANS-CONRADT', 'hc.vonwedemeyer@student.ie.edu'),\n",
    "    ('WOLFGANG HUMPERT', 'ALEXANDER', 'alexhumpert@student.ie.edu'),\n",
    "    ('YOSHIKAWA', 'TAKUMI', 'takumi.yoshikawa@student.ie.edu'),\n",
    "    ('ZOUROB', 'YOUSSEF', 'youssef.zourob@student.ie.edu')\n",
    "]"
   ]
  },
  {
   "cell_type": "markdown",
   "metadata": {},
   "source": [
    "Remember that we can nest containers, and that accessing them is as easy as follows:\n",
    "* 1st item of the list: ```class_list[0]```. Returns ```('ADROER I GRAS', 'MIREIA', 'mireia.adroer@student.ie.edu')```\n",
    "* 3rd item in the second item of the list: ```class_list[1][2]```. Returns ```'krishnaagrawal@student.ie.edu'```\n",
    "\n",
    "And so on...\n",
    "\n",
    "Now comes the fun.\n",
    "\n",
    "We can loop through the list to check for example the students with more than 1 name:"
   ]
  },
  {
   "cell_type": "code",
   "execution_count": 5,
   "metadata": {},
   "outputs": [
    {
     "data": {
      "text/plain": [
       "[('BAREUTHER', 'ROBERT ELLIS', 'rbareuther@student.ie.edu'),\n",
       " ('BETANCUR BOTERO', 'JUAN LUIS', 'juan.betancur@student.ie.edu'),\n",
       " ('CÁCERES GONZÁLEZ', 'ALFREDO DANIEL', 'acaceresg@student.ie.edu'),\n",
       " ('ELREFAIE', 'SEIF MOHAMED EMAM', 'seifelrefaie2021@student.ie.edu'),\n",
       " ('FERMIN', 'MARIO HERNAN', 'mario.fermin@student.ie.edu'),\n",
       " ('HOPKINS PÉREZ', 'MIGUEL RICARDO', 'miguel@student.ie.edu'),\n",
       " ('MALDONADO MORENO', 'JUAN MANUEL', 'juan.manuel@student.ie.edu'),\n",
       " ('MATHAY', 'ALEXANDRA MARIA O.', 'alexandra.mathay@student.ie.edu'),\n",
       " ('MISSURA DONOSO', 'MARIA GRACIELA', 'maria.missura@student.ie.edu'),\n",
       " ('RIGAUDEAU', 'TIMOTHÉ RAFFAELLO ANTOINE', 'timorigaudeau@student.ie.edu'),\n",
       " ('STENGER', 'THOMAS AUGUST MARIA', 'thomas.stenger@student.ie.edu'),\n",
       " ('VON STOCKAR-SCHERER-CASTELL',\n",
       "  'ERIC DANIEL MARC',\n",
       "  'evstockar@student.ie.edu')]"
      ]
     },
     "execution_count": 5,
     "metadata": {},
     "output_type": "execute_result"
    }
   ],
   "source": [
    "# students with more than 1 name:\n",
    "\n",
    "students_several_names = []\n",
    "\n",
    "for student in class_list:\n",
    "    if \" \" in student[1]:  # having several means having spaces in the name, right?\n",
    "        students_several_names.append(student)\n",
    "        \n",
    "students_several_names"
   ]
  },
  {
   "cell_type": "markdown",
   "metadata": {},
   "source": [
    "Or we can print the number of characters long of the name if the name is longer than 10 characters:"
   ]
  },
  {
   "cell_type": "code",
   "execution_count": 6,
   "metadata": {},
   "outputs": [
    {
     "name": "stdout",
     "output_type": "stream",
     "text": [
      "12\n",
      "14\n",
      "17\n",
      "12\n",
      "14\n",
      "11\n",
      "18\n",
      "14\n",
      "25\n",
      "19\n",
      "16\n",
      "12\n"
     ]
    }
   ],
   "source": [
    "for student in class_list:\n",
    "    length_name = len(student[1])\n",
    "    if length_name > 10:\n",
    "        print(length_name)"
   ]
  },
  {
   "cell_type": "markdown",
   "metadata": {},
   "source": [
    "### 2.1. Who has the longest name? And the longest last name? And the shortest email?\n",
    "\n",
    "Remember that we can create an auxiliar variable outside of the loop that can be the one containing the current name, and if the new name in the loop is longer than the one stored in the auxiliary variable, we can change the value of the auxiliary variable to the newest and longest name"
   ]
  },
  {
   "cell_type": "code",
   "execution_count": 7,
   "metadata": {},
   "outputs": [
    {
     "name": "stdout",
     "output_type": "stream",
     "text": [
      "The longest name is: TIMOTHÉ RAFFAELLO ANTOINE\n",
      "The longest last name is: VON STOCKAR-SCHERER-CASTELL\n",
      "The shortest email is: miguel@student.ie.edu\n"
     ]
    }
   ],
   "source": [
    "# longest name\n",
    "longest_name = \"\"\n",
    "for student in class_list:\n",
    "    name = student[1]\n",
    "    if len(longest_name) < len(name):\n",
    "        longest_name = name\n",
    "        \n",
    "print(f\"The longest name is: {longest_name}\")\n",
    "\n",
    "# longest last name\n",
    "longest_last_name = \"\"\n",
    "for student in class_list:\n",
    "    last_name = student[0]\n",
    "    if len(longest_last_name) < len(last_name):\n",
    "        longest_last_name = last_name\n",
    "        \n",
    "print(f\"The longest last name is: {longest_last_name}\")\n",
    "\n",
    "# shortest email\n",
    "shortest_email = \"a\" * 1000\n",
    "for student in class_list:\n",
    "    email = student[2]\n",
    "    if len(shortest_email) > len(email):\n",
    "        shortest_email = email\n",
    "        \n",
    "print(f\"The shortest email is: {shortest_email}\")"
   ]
  },
  {
   "cell_type": "markdown",
   "metadata": {
    "tags": []
   },
   "source": [
    "### 2.2. Create a list containing all the students with symbols in their email\n",
    "\n",
    "All emails have `@` and `.` so don't check for those, but rather `-`, `_`, etc"
   ]
  },
  {
   "cell_type": "code",
   "execution_count": 8,
   "metadata": {},
   "outputs": [
    {
     "data": {
      "text/plain": [
       "[('DRAGO BRAGA', 'CONSTANÇA', 'constanca_braga@student.ie.edu')]"
      ]
     },
     "execution_count": 8,
     "metadata": {},
     "output_type": "execute_result"
    }
   ],
   "source": [
    "# list of students with symbols in their email different than @ and .\n",
    "\n",
    "students_with_symbols = []\n",
    "allowed_characters = \"abcdefghijklmnopqrstuvwxyz0123456789@.\"\n",
    "\n",
    "for student in class_list:\n",
    "    email = student[2]\n",
    "    for character in email:\n",
    "        if character not in allowed_characters:\n",
    "            students_with_symbols.append(student)\n",
    "            \n",
    "students_with_symbols"
   ]
  },
  {
   "cell_type": "markdown",
   "metadata": {},
   "source": [
    "### 2.3. Create a list of students who have their full name (name and last name) in their email\n",
    "\n",
    "Keep in mind the differences in formats between names and last names (upper) and emails (lower)."
   ]
  },
  {
   "cell_type": "code",
   "execution_count": 9,
   "metadata": {},
   "outputs": [
    {
     "data": {
      "text/plain": [
       "[('AGRAWAL', 'KRISHNA', 'krishnaagrawal@student.ie.edu'),\n",
       " ('ALBUS', 'NIKLAS', 'niklas.albus@student.ie.edu'),\n",
       " ('BLETHON', 'PIERRE', 'pierreblethon@student.ie.edu'),\n",
       " ('BOLHUIS', 'QUIRIJN', 'quirijnbolhuis@student.ie.edu'),\n",
       " ('CILIA', 'MARTINA', 'martina.cilia@student.ie.edu'),\n",
       " ('DZHANERYAN', 'MIKAEL', 'dzhaneryan.mikael@student.ie.edu'),\n",
       " ('ELMONOFY', 'ALI', 'ali.elmonofy@student.ie.edu'),\n",
       " ('GROSS', 'ALEXANDER', 'alexander.gross@student.ie.edu'),\n",
       " ('HAO', 'SHUANGYAN', 'shuangyan.hao@student.ie.edu'),\n",
       " ('HUPPERICH', 'MANUEL', 'hupperich.manuel@student.ie.edu'),\n",
       " ('MAHMOUD', 'KHALED', 'khaled.mahmoud@student.ie.edu'),\n",
       " ('MARKOWETZ', 'ANNA', 'anna.markowetz@student.ie.edu'),\n",
       " ('MATSUI', 'SHOICHI', 'shoichi.matsui@student.ie.edu'),\n",
       " ('NEBULONI', 'MARCO', 'marco.nebuloni@student.ie.edu'),\n",
       " ('RAAD', 'NADINE', 'nadine.raad@student.ie.edu'),\n",
       " ('RIBES', 'PAUL', 'paulribes@student.ie.edu'),\n",
       " ('ROSSIER', 'PATRICK', 'patrick.rossier@student.ie.edu'),\n",
       " ('SCHEIBLING', 'DIEGO', 'diego.scheibling@student.ie.edu'),\n",
       " ('SEYNAEVE', 'ALICE', 'aliceseynaeve@student.ie.edu'),\n",
       " ('TRUYTS', 'THOMAS', 'thomas.truyts@student.ie.edu'),\n",
       " ('YOSHIKAWA', 'TAKUMI', 'takumi.yoshikawa@student.ie.edu'),\n",
       " ('ZOUROB', 'YOUSSEF', 'youssef.zourob@student.ie.edu')]"
      ]
     },
     "execution_count": 9,
     "metadata": {},
     "output_type": "execute_result"
    }
   ],
   "source": [
    "# list of students with full name in email\n",
    "name_in_email = []\n",
    "\n",
    "for student in class_list:\n",
    "    if (student[1].lower() in student[2]) and (student[0].lower() in student[2]):\n",
    "        name_in_email.append(student)\n",
    "        \n",
    "name_in_email"
   ]
  },
  {
   "cell_type": "markdown",
   "metadata": {},
   "source": [
    "### 2.4. Create a list of student's information with the following format:\n",
    "\n",
    "```Python\n",
    "[\n",
    "    \"name_1 last_name_1, email_1\",\n",
    "    \"name_2 last_name_2, email_2\",\n",
    "    ...\n",
    "]\n",
    "```\n",
    "\n",
    "And please **C**apitalize the name and last name. Example:\n",
    "\n",
    "```Python\n",
    "[\n",
    "    'Juan Luis Betancur Botero, juan.betancur@student.ie.edu',\n",
    "    'Pierre Blethon, pierreblethon@student.ie.edu',\n",
    "    'Quirijn Bolhuis, quirijnbolhuis@student.ie.edu',\n",
    "    'Martina Cilia, martina.cilia@student.ie.edu',\n",
    "    'Alfredo Daniel Cáceres González, acaceresg@student.ie.edu',\n",
    "    'Nour Darwiche Hammoud, nourdarwiche@student.ie.edu',\n",
    "    'Antoine De Maintenant, antoinedemaintenant@student.ie.edu',\n",
    "]\n",
    "```"
   ]
  },
  {
   "cell_type": "code",
   "execution_count": 10,
   "metadata": {},
   "outputs": [
    {
     "data": {
      "text/plain": [
       "['Mireia Adroer I Gras, mireia.adroer@student.ie.edu',\n",
       " 'Krishna Agrawal, krishnaagrawal@student.ie.edu',\n",
       " 'Niklas Albus, niklas.albus@student.ie.edu',\n",
       " 'Jumana Almakainzi, almakjfa@student.ie.edu',\n",
       " 'Celia Assmuth Oreja, celia.assmuthoreja@student.ie.edu',\n",
       " 'Robert Ellis Bareuther, rbareuther@student.ie.edu',\n",
       " 'Juan Luis Betancur Botero, juan.betancur@student.ie.edu',\n",
       " 'Pierre Blethon, pierreblethon@student.ie.edu',\n",
       " 'Quirijn Bolhuis, quirijnbolhuis@student.ie.edu',\n",
       " 'Martina Cilia, martina.cilia@student.ie.edu',\n",
       " 'Alfredo Daniel Cáceres González, acaceresg@student.ie.edu',\n",
       " 'Nour Darwiche Hammoud, nourdarwiche@student.ie.edu',\n",
       " 'Antoine De Maintenant, antoinedemaintenant@student.ie.edu',\n",
       " 'Constança Drago Braga, constanca_braga@student.ie.edu',\n",
       " 'Mikael Dzhaneryan, dzhaneryan.mikael@student.ie.edu',\n",
       " 'Emiliano D´elia Cerchi, emiliano.delia@student.ie.edu',\n",
       " 'Ali Elmonofy, ali.elmonofy@student.ie.edu',\n",
       " 'Seif Mohamed Emam Elrefaie, seifelrefaie2021@student.ie.edu',\n",
       " 'Emma Fayos García, emma.fayos@student.ie.edu',\n",
       " 'Mario Hernan Fermin, mario.fermin@student.ie.edu',\n",
       " 'Diego Garate Arias, diego.garate@student.ie.edu',\n",
       " 'Aditya Gavali Sunil, aditya.gavali@student.ie.edu',\n",
       " 'Ignacio Gonzalez Granero, ignaciogonzalez@student.ie.edu',\n",
       " 'Ignacio González Bohórquez, ignagabo1997@student.ie.edu',\n",
       " 'Alexander Gross, alexander.gross@student.ie.edu',\n",
       " 'Shuangyan Hao, shuangyan.hao@student.ie.edu',\n",
       " 'Miguel Ricardo Hopkins Pérez, miguel@student.ie.edu',\n",
       " 'Ivan Humbert Rusodimos, ihumbert@student.ie.edu',\n",
       " 'Manuel Hupperich, hupperich.manuel@student.ie.edu',\n",
       " 'Philippe Kerno Gallardo, phil.kerno@student.ie.edu',\n",
       " 'Khaled Mahmoud, khaled.mahmoud@student.ie.edu',\n",
       " 'Juan Manuel Maldonado Moreno, juan.manuel@student.ie.edu',\n",
       " 'Manuel Marina Herrera, manuel.marina@student.ie.edu',\n",
       " 'Anna Markowetz, anna.markowetz@student.ie.edu',\n",
       " 'Diego Mata Saravia, diego.mata@student.ie.edu',\n",
       " 'Alexandra Maria O. Mathay, alexandra.mathay@student.ie.edu',\n",
       " 'Shoichi Matsui, shoichi.matsui@student.ie.edu',\n",
       " 'Maria Graciela Missura Donoso, maria.missura@student.ie.edu',\n",
       " 'Orlando Montalvo Puccini, orlando.montalvo@student.ie.edu',\n",
       " 'Marco Nebuloni, marco.nebuloni@student.ie.edu',\n",
       " 'Guillermo Palacín Gómez, gpalacin@student.ie.edu',\n",
       " 'Nadine Raad, nadine.raad@student.ie.edu',\n",
       " 'Paul Ribes, paulribes@student.ie.edu',\n",
       " 'Timothé Raffaello Antoine Rigaudeau, timorigaudeau@student.ie.edu',\n",
       " 'Patrick Rossier, patrick.rossier@student.ie.edu',\n",
       " 'Diego Scheibling, diego.scheibling@student.ie.edu',\n",
       " 'Alice Seynaeve, aliceseynaeve@student.ie.edu',\n",
       " 'Thomas August Maria Stenger, thomas.stenger@student.ie.edu',\n",
       " 'Fernando Suárez Pinto, fernando.suarez@student.ie.edu',\n",
       " 'Thomas Truyts, thomas.truyts@student.ie.edu',\n",
       " 'Paloma Van Ginderachter, p.vanginderachter@student.ie.edu',\n",
       " 'Eric Daniel Marc Von Stockar-scherer-castell, evstockar@student.ie.edu',\n",
       " 'Hans-conradt Von Wedemeyer, hc.vonwedemeyer@student.ie.edu',\n",
       " 'Alexander Wolfgang Humpert, alexhumpert@student.ie.edu',\n",
       " 'Takumi Yoshikawa, takumi.yoshikawa@student.ie.edu',\n",
       " 'Youssef Zourob, youssef.zourob@student.ie.edu']"
      ]
     },
     "execution_count": 10,
     "metadata": {},
     "output_type": "execute_result"
    }
   ],
   "source": [
    "# list of students info as strings\n",
    "info_list = []\n",
    "\n",
    "for student in class_list:\n",
    "    \n",
    "    # capitalizing names\n",
    "    names = student[1].split()\n",
    "    names_capitalized = []\n",
    "    for name in names:\n",
    "        names_capitalized.append(name.capitalize())\n",
    "    name_cap = \" \".join(names_capitalized)\n",
    "    \n",
    "    \n",
    "    # capitalizing last names\n",
    "    last_names = student[0].split()\n",
    "    last_names_capitalized = []\n",
    "    for last_name in last_names:\n",
    "        last_names_capitalized.append(last_name.capitalize())\n",
    "    last_name_cap = \" \".join(last_names_capitalized)\n",
    "    \n",
    "    formatted_info = f\"{name_cap} {last_name_cap}, {student[2]}\"\n",
    "    \n",
    "    info_list.append(formatted_info)\n",
    "    \n",
    "info_list"
   ]
  },
  {
   "cell_type": "markdown",
   "metadata": {},
   "source": [
    "### 2.5. Hot exercise!\n",
    "\n",
    "Let's assign a number to each student, indicating how many different letters their name has.\n",
    "\n",
    "For example:\n",
    "* Somebody called \"Pepe\" would have a number of 2, since they would only have 2 different letters: \"p\" and \"e\".\n",
    "* Somebody called \"Daniel\" would have a number of 6, since every letter it their name is unique.\n",
    "* Somebody called \"Jumana\" would have a number of 5, since the \"a\" is repeated\n",
    "\n",
    "**Hint**: loop through the characters in the name and store them iteratively in a list, if the character is in the list, you can use `continue` and move on to the next character in the name; if not, you can store the letter in the list."
   ]
  },
  {
   "cell_type": "code",
   "execution_count": 11,
   "metadata": {},
   "outputs": [
    {
     "data": {
      "text/plain": [
       "[('MIREIA', 5),\n",
       " ('KRISHNA', 7),\n",
       " ('NIKLAS', 6),\n",
       " ('JUMANA', 5),\n",
       " ('CELIA', 5),\n",
       " ('ROBERT ELLIS', 9),\n",
       " ('JUAN LUIS', 8),\n",
       " ('PIERRE', 4),\n",
       " ('QUIRIJN', 6),\n",
       " ('MARTINA', 6),\n",
       " ('ALFREDO DANIEL', 10),\n",
       " ('NOUR', 4),\n",
       " ('ANTOINE', 6),\n",
       " ('CONSTANÇA', 7),\n",
       " ('MIKAEL', 6),\n",
       " ('EMILIANO', 7),\n",
       " ('ALI', 3),\n",
       " ('SEIF MOHAMED EMAM', 10),\n",
       " ('EMMA', 3),\n",
       " ('MARIO HERNAN', 9),\n",
       " ('DIEGO', 5),\n",
       " ('ADITYA', 5),\n",
       " ('IGNACIO', 6),\n",
       " ('IGNACIO', 6),\n",
       " ('ALEXANDER', 7),\n",
       " ('SHUANGYAN', 7),\n",
       " ('MIGUEL RICARDO', 12),\n",
       " ('IVAN', 4),\n",
       " ('MANUEL', 6),\n",
       " ('PHILIPPE', 5),\n",
       " ('KHALED', 6),\n",
       " ('JUAN MANUEL', 8),\n",
       " ('MANUEL', 6),\n",
       " ('ANNA', 2),\n",
       " ('DIEGO', 5),\n",
       " ('ALEXANDRA MARIA O.', 12),\n",
       " ('SHOICHI', 5),\n",
       " ('MARIA GRACIELA', 9),\n",
       " ('ORLANDO', 6),\n",
       " ('MARCO', 5),\n",
       " ('GUILLERMO', 8),\n",
       " ('NADINE', 5),\n",
       " ('PAUL', 4),\n",
       " ('TIMOTHÉ RAFFAELLO ANTOINE', 13),\n",
       " ('PATRICK', 7),\n",
       " ('DIEGO', 5),\n",
       " ('ALICE', 5),\n",
       " ('THOMAS AUGUST MARIA', 11),\n",
       " ('FERNANDO', 7),\n",
       " ('THOMAS', 6),\n",
       " ('PALOMA', 5),\n",
       " ('ERIC DANIEL MARC', 10),\n",
       " ('HANS-CONRADT', 10),\n",
       " ('ALEXANDER', 7),\n",
       " ('TAKUMI', 6),\n",
       " ('YOUSSEF', 6)]"
      ]
     },
     "execution_count": 11,
     "metadata": {},
     "output_type": "execute_result"
    }
   ],
   "source": [
    "# very caliente!\n",
    "\n",
    "name_ratings = []\n",
    "\n",
    "for student in class_list:\n",
    "    name = student[1]\n",
    "    unique_letters_in_name = []\n",
    "    for letter in name:\n",
    "        if letter in unique_letters_in_name:\n",
    "            continue\n",
    "        else:\n",
    "            unique_letters_in_name.append(letter)\n",
    "    name_ratings.append((name, len(unique_letters_in_name)))\n",
    "    \n",
    "name_ratings"
   ]
  },
  {
   "cell_type": "markdown",
   "metadata": {},
   "source": [
    "### 2.6. It's 2054\n",
    "Email service provider companies now charge by the character: 1 million EUR per character. \n",
    "\n",
    "How much would have IE paid for this class? \n",
    "\n",
    "Hint: \n",
    "```\n",
    "sum([1, 2, 3]) \n",
    ">> 6\n",
    "```"
   ]
  },
  {
   "cell_type": "code",
   "execution_count": 12,
   "metadata": {},
   "outputs": [
    {
     "name": "stdout",
     "output_type": "stream",
     "text": [
      "Total cost: €1568M\n"
     ]
    }
   ],
   "source": [
    "# money, money, money\n",
    "\n",
    "length_emails = []\n",
    "\n",
    "for student in class_list:\n",
    "    email = student[2]\n",
    "    length_emails.append(len(email))\n",
    "    \n",
    "total_cost = sum(length_emails)\n",
    "\n",
    "print(f\"Total cost: €{total_cost}M\")"
   ]
  },
  {
   "cell_type": "code",
   "execution_count": null,
   "metadata": {},
   "outputs": [],
   "source": []
  }
 ],
 "metadata": {
  "kernelspec": {
   "display_name": "Python [conda env:ml2] *",
   "language": "python",
   "name": "conda-env-ml2-py"
  },
  "language_info": {
   "codemirror_mode": {
    "name": "ipython",
    "version": 3
   },
   "file_extension": ".py",
   "mimetype": "text/x-python",
   "name": "python",
   "nbconvert_exporter": "python",
   "pygments_lexer": "ipython3",
   "version": "3.8.5"
  }
 },
 "nbformat": 4,
 "nbformat_minor": 4
}
