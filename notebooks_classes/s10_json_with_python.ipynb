{
 "cells": [
  {
   "cell_type": "markdown",
   "id": "d065f2e8-1e4d-4a4d-a8a9-6d6e893fb4ad",
   "metadata": {},
   "source": [
    "# Session 10: JSON files\n",
    "\n",
    "What is JSON? It's a simple way of representing data independent of the platform or language you're using.\n",
    "\n",
    "In JSON, data is stored as key-value pairs, and they are stored as text within a single string. \n",
    "\n",
    "The module to use when working with JSON in Python is `json`. We can use it with:\n",
    "\n",
    "```Python\n",
    "import json\n",
    "```\n",
    "\n",
    "JSON Summary\n",
    "* **JSON stands for JavaScript Object Notation**\n",
    "* JSON is a lightweight data-interchange format\n",
    "* JSON is plain text written in JavaScript object notation\n",
    "* JSON is used to send data between computers\n",
    "* JSON is language independent\n",
    "* JSON is \"self-describing\" and easy to understand"
   ]
  },
  {
   "cell_type": "code",
   "execution_count": 1,
   "id": "0f0522cd-72de-4a34-80c9-427f37662047",
   "metadata": {},
   "outputs": [],
   "source": [
    "import json"
   ]
  },
  {
   "cell_type": "markdown",
   "id": "9d3928f4-7242-46b1-a0b7-1bdb4dd31385",
   "metadata": {},
   "source": [
    "We can read JSON files with `json.load()` or write on JSON files with `json.dump()`"
   ]
  },
  {
   "cell_type": "code",
   "execution_count": 2,
   "id": "18473f3d-9a23-4b4f-8633-340f7d4857a0",
   "metadata": {},
   "outputs": [
    {
     "data": {
      "text/plain": [
       "{'name': 'Daniel',\n",
       " 'last_names': ['Garcia', 'Hernandez'],\n",
       " 'email': 'dgarciah@faculty.ie.edu',\n",
       " 'age': 33,\n",
       " 'vehicles': [{'type': 'car', 'brand': 'Nissan', 'model': 'Pulsar', 'age': 6},\n",
       "  {'type': 'motorbike', 'brand': 'BMW', 'model': 'F800GT', 'age': 3}],\n",
       " 'pets': [{'name': 'Churro', 'species': 'dog', 'age': 8}]}"
      ]
     },
     "execution_count": 2,
     "metadata": {},
     "output_type": "execute_result"
    }
   ],
   "source": [
    "# let's create a dictionary to store in a json file\n",
    "\n",
    "dani_info = {\n",
    "    \"name\": \"Daniel\",\n",
    "    \"last_names\": [\"Garcia\", \"Hernandez\"],\n",
    "    \"email\": \"dgarciah@faculty.ie.edu\",\n",
    "    \"age\": 33,\n",
    "    \"vehicles\": [\n",
    "        {\n",
    "            \"type\": \"car\",\n",
    "            \"brand\": \"Nissan\",\n",
    "            \"model\": \"Pulsar\",\n",
    "            \"age\": 6\n",
    "        },\n",
    "        {\n",
    "            \"type\": \"motorbike\",\n",
    "            \"brand\": \"BMW\",\n",
    "            \"model\": \"F800GT\",\n",
    "            \"age\": 3\n",
    "        }\n",
    "    ],\n",
    "    \"pets\":[\n",
    "        {\n",
    "            \"name\": \"Churro\",\n",
    "            \"species\": \"dog\",\n",
    "            \"age\": 8\n",
    "        }\n",
    "    ]\n",
    "        \n",
    "}\n",
    "\n",
    "dani_info"
   ]
  },
  {
   "cell_type": "code",
   "execution_count": 4,
   "id": "c646ee74-0c82-4b3a-a804-c48244731ab2",
   "metadata": {},
   "outputs": [],
   "source": [
    "# we dump info into a json file with `json.dump`\n",
    "\n",
    "with open(\"../files/dani_info.json\", \"w\") as f:\n",
    "    json.dump(dani_info, f)"
   ]
  },
  {
   "cell_type": "code",
   "execution_count": 6,
   "id": "4ac6d69d-af04-4c35-b6ed-a3e61f359611",
   "metadata": {},
   "outputs": [
    {
     "data": {
      "text/plain": [
       "{'name': 'Daniel',\n",
       " 'last_names': ['Garcia', 'Hernandez'],\n",
       " 'email': 'dgarciah@faculty.ie.edu',\n",
       " 'age': 33,\n",
       " 'vehicles': [{'type': 'car', 'brand': 'Nissan', 'model': 'Pulsar', 'age': 6},\n",
       "  {'type': 'motorbike', 'brand': 'BMW', 'model': 'F800GT', 'age': 3}],\n",
       " 'pets': [{'name': 'Churro', 'species': 'dog', 'age': 8}]}"
      ]
     },
     "execution_count": 6,
     "metadata": {},
     "output_type": "execute_result"
    }
   ],
   "source": [
    "# read json file we just created\n",
    "\n",
    "with open(\"../files/dani_info.json\") as json_file:\n",
    "    dani_dictionary = json.load(json_file)\n",
    "\n",
    "dani_dictionary"
   ]
  },
  {
   "cell_type": "markdown",
   "id": "d1367a62-16d0-4888-9170-704dfa298d38",
   "metadata": {},
   "source": [
    "### Types of data we can include in JSON:\n",
    "* Strings\n",
    "* Numeric: float and integers\n",
    "* Boolean: `True` and `False`\n",
    "  * In the case of booleans, the `json` library will convert `True` to `true` and `False` to `false`"
   ]
  },
  {
   "cell_type": "code",
   "execution_count": 9,
   "id": "7839b41f-03a0-49ea-9ced-b80ed5d96846",
   "metadata": {},
   "outputs": [],
   "source": [
    "data_types = [\n",
    "    {\"type\": \"string\", \"examples\": \"hello!\"},\n",
    "    {\"type\": \"numeric\", \"examples\": [145, 0.0052]},\n",
    "    {\"type\": \"boolean\", \"examples\": [True, False]},\n",
    "]\n",
    "\n",
    "with open(\"../files/data_types.json\", \"w\") as json_file:\n",
    "    json.dump(data_types, json_file)"
   ]
  },
  {
   "cell_type": "markdown",
   "id": "2874442c-a9e1-45a8-a525-856203b07b1c",
   "metadata": {},
   "source": [
    "We can update an existing JSON file by adding new key-value pairs of information to it:\n",
    "* Let's add a new key called `favorites` including my favorite food, drink, band, and videogame\n",
    "* Let's change my age to 34 --getting ready for my birthday in December :D\n",
    "\n",
    "How to do that:\n",
    "1. Read the JSON file with `json.load()` as an object we can modify\n",
    "2. Do the changes we need into it\n",
    "3. Use `json.dump()` and save the new object as a JSON file with the same name we used "
   ]
  },
  {
   "cell_type": "code",
   "execution_count": 10,
   "id": "9c6d74ef-9b1d-40a6-a458-619173b7df87",
   "metadata": {},
   "outputs": [],
   "source": [
    "# first we read the JSON file\n",
    "with open(\"../files/dani_info.json\") as json_file:\n",
    "    dani_info = json.load(json_file)\n",
    "    \n",
    "# update the content\n",
    "# new key: favorites\n",
    "dani_info[\"favorites\"] = {\n",
    "    \"food\": \"döner kebab\",\n",
    "    \"drink\": \"sparkling water\",\n",
    "    \"band\": \"Tame Impala\",\n",
    "    \"videogame\": \"Metal Gear Solid\"\n",
    "}\n",
    "\n",
    "# changing `age` key's valuefrom 33 to 34\n",
    "dani_info[\"age\"] = 34\n",
    "\n",
    "# now we store the new information as JSON\n",
    "with open(\"../files/dani_info.json\",  \"w\") as json_file:\n",
    "    json.dump(dani_info, json_file)"
   ]
  },
  {
   "cell_type": "code",
   "execution_count": 12,
   "id": "6122faca",
   "metadata": {},
   "outputs": [
    {
     "data": {
      "text/plain": [
       "{'name': 'Daniel',\n",
       " 'last_names': ['Garcia', 'Hernandez'],\n",
       " 'email': 'dgarciah@faculty.ie.edu',\n",
       " 'age': 34,\n",
       " 'vehicles': [{'type': 'car', 'brand': 'Nissan', 'model': 'Pulsar', 'age': 6},\n",
       "  {'type': 'motorbike', 'brand': 'BMW', 'model': 'F800GT', 'age': 3}],\n",
       " 'pets': [{'name': 'Churro', 'species': 'dog', 'age': 8}],\n",
       " 'favorites': {'food': 'döner kebab',\n",
       "  'drink': 'sparkling water',\n",
       "  'band': 'Tame Impala',\n",
       "  'videogame': 'Metal Gear Solid'}}"
      ]
     },
     "execution_count": 12,
     "metadata": {},
     "output_type": "execute_result"
    }
   ],
   "source": [
    "# we can see now that the info has been updated ;)\n",
    "with open(\"../files/dani_info.json\") as json_file:\n",
    "    dani_info = json.load(json_file)\n",
    "    \n",
    "dani_info"
   ]
  },
  {
   "cell_type": "markdown",
   "id": "3fbb16e5-8297-4691-90d0-1a4002910c60",
   "metadata": {},
   "source": [
    "## When to use JSON files IRL\n",
    "\n",
    "JSON files are present almost everywhere, specifically when information needs to flow like when doing requests to APIs for example.\n",
    "\n",
    "It's also a very useful format to store configurations of Data Science models and projects.\n",
    "\n",
    "For example, we can store the initial parameters of the algorithms, resource allocation of the machines, and useful variables that we don't want to hard-code in out codebase, but rather read it from the `config.json` file."
   ]
  },
  {
   "cell_type": "code",
   "execution_count": 15,
   "id": "758a5f48-9b5c-4c79-9826-4061b244902d",
   "metadata": {},
   "outputs": [],
   "source": [
    "# example of information to store in a JSON file for Machine Learning\n",
    "config_dict = {\n",
    "    \"number_of_trees\": 50,\n",
    "    \"n_of_branches\": 5,\n",
    "    \"nodes\": 4,\n",
    "}"
   ]
  },
  {
   "cell_type": "markdown",
   "id": "cdf86666-bd6e-49b9-aa32-acbf98808b11",
   "metadata": {
    "tags": []
   },
   "source": [
    "## Practice: JSON data"
   ]
  },
  {
   "cell_type": "code",
   "execution_count": 16,
   "id": "6c57fe67-202b-4a2a-9e01-43387e285fb5",
   "metadata": {},
   "outputs": [],
   "source": [
    "with open(\"../files/bike_accidents_2021.json\", encoding=\"utf-8\") as f:\n",
    "    accidents = json.load(f)"
   ]
  },
  {
   "cell_type": "code",
   "execution_count": 17,
   "id": "d71a9d82-d7bb-47dc-b472-868dc875e90f",
   "metadata": {},
   "outputs": [
    {
     "data": {
      "text/plain": [
       "{'date': '2021-01-01',\n",
       " 'time': '11:38',\n",
       " 'street': 'CALL. JOSE BERGAMIN / CALL. FLORENCIO CANO CRISTOBAL',\n",
       " 'number': '62',\n",
       " 'district': 'MORATALAZ',\n",
       " 'weather': 'clear',\n",
       " 'sex': 'male',\n",
       " 'alcohol_positive': 'N'}"
      ]
     },
     "execution_count": 17,
     "metadata": {},
     "output_type": "execute_result"
    }
   ],
   "source": [
    "accidents[0]"
   ]
  },
  {
   "cell_type": "markdown",
   "id": "7e8db8cd-ded1-4e02-9430-01edb5783a33",
   "metadata": {},
   "source": [
    "### 1. Include the following new keys in each item in the JSON file:\n",
    "* Hour of the accident\n",
    "* Day of the week\n",
    "* Weekend or not"
   ]
  },
  {
   "cell_type": "code",
   "execution_count": 18,
   "id": "b5d10353-f972-43b7-9e9b-6c11c94d9f43",
   "metadata": {},
   "outputs": [
    {
     "data": {
      "text/plain": [
       "4"
      ]
     },
     "execution_count": 18,
     "metadata": {},
     "output_type": "execute_result"
    }
   ],
   "source": [
    "# working with date and time with the module `datetime`\n",
    "from datetime import datetime\n",
    "\n",
    "dt_to_convert = \"2021-01-01\"\n",
    "\n",
    "datetime.strptime(dt_to_convert, \"%Y-%m-%d\").weekday()"
   ]
  },
  {
   "cell_type": "code",
   "execution_count": 19,
   "id": "11effb46-d4bf-48f5-9fc7-078aeb40e5dd",
   "metadata": {},
   "outputs": [
    {
     "data": {
      "text/plain": [
       "{'date': '2021-01-01',\n",
       " 'time': '11:38',\n",
       " 'street': 'CALL. JOSE BERGAMIN / CALL. FLORENCIO CANO CRISTOBAL',\n",
       " 'number': '62',\n",
       " 'district': 'MORATALAZ',\n",
       " 'weather': 'clear',\n",
       " 'sex': 'male',\n",
       " 'alcohol_positive': 'N',\n",
       " 'hour': '11',\n",
       " 'day_of_week': 4,\n",
       " 'weekend': False}"
      ]
     },
     "execution_count": 19,
     "metadata": {},
     "output_type": "execute_result"
    }
   ],
   "source": [
    "# let's create the new keys for the accidents\n",
    "\n",
    "for accident in accidents:\n",
    "    accident[\"hour\"] = accident[\"time\"].split(\":\")[0]\n",
    "    dt_object = datetime.strptime(accident[\"date\"], \"%Y-%m-%d\")\n",
    "    day_of_week = dt_object.weekday()\n",
    "    accident[\"day_of_week\"] = day_of_week\n",
    "    accident[\"weekend\"] = True if accident[\"day_of_week\"]>4 else False\n",
    "    \n",
    "accidents[0]"
   ]
  },
  {
   "cell_type": "markdown",
   "id": "b0dd3428-ccf2-46ac-83d6-2ca8626e244b",
   "metadata": {},
   "source": [
    "### 2. Build dictionary with district as key and total number of accidents as value.\n",
    "\n",
    "Save the results as a JSON file called `accidents_per_district.json`"
   ]
  },
  {
   "cell_type": "code",
   "execution_count": 20,
   "id": "bd7ad240-78c5-48eb-8fb1-6a228ae704a4",
   "metadata": {},
   "outputs": [],
   "source": [
    "new_dict = {}\n",
    "\n",
    "districts = {\n",
    "    accident[\"district\"] for accident in accidents\n",
    "}\n",
    "\n",
    "for district in districts:\n",
    "    number_of_accidents = 0\n",
    "    for accident in accidents:\n",
    "        if accident[\"district\"] == district:\n",
    "            number_of_accidents += 1\n",
    "            \n",
    "    new_dict[district] = number_of_accidents\n",
    "    \n",
    "with open(\"accidents_per_district.json\", \"w\") as f:\n",
    "    json.dump(new_dict, f)"
   ]
  },
  {
   "cell_type": "markdown",
   "id": "10c1624c-5c77-4822-949b-cf34324b7077",
   "metadata": {},
   "source": [
    "### 3. What's the proportion of accidents with a `sex=male` involved? And `sex=female`?"
   ]
  },
  {
   "cell_type": "code",
   "execution_count": 21,
   "id": "ef8dc6c9-a7b7-4463-849c-3e0a4c407e84",
   "metadata": {},
   "outputs": [
    {
     "name": "stdout",
     "output_type": "stream",
     "text": [
      "Proportion of accidents involving men: 0.7680851063829788\n",
      "Proportion of accidents involving women: 0.2127659574468085\n"
     ]
    }
   ],
   "source": [
    "sexes = {\n",
    "    accident[\"sex\"] for accident in accidents\n",
    "}\n",
    "\n",
    "accidents_per_sex = {}\n",
    "\n",
    "for sex in sexes:\n",
    "    counter = 0\n",
    "    for accident in accidents:\n",
    "        if accident[\"sex\"] == sex:\n",
    "            counter += 1\n",
    "            \n",
    "    accidents_per_sex[sex] = counter\n",
    "    \n",
    "total_accidents = sum(accidents_per_sex.values())\n",
    "\n",
    "prop_male = accidents_per_sex[\"male\"] / total_accidents\n",
    "prop_female = accidents_per_sex[\"female\"] / total_accidents\n",
    "\n",
    "print(f\"Proportion of accidents involving men: {prop_male}\")\n",
    "print(f\"Proportion of accidents involving women: {prop_female}\")"
   ]
  },
  {
   "cell_type": "markdown",
   "id": "64108cc1-ae27-4a16-a059-dd5b8ca2633f",
   "metadata": {},
   "source": [
    "### 4. Hour of the day with more accidents"
   ]
  },
  {
   "cell_type": "code",
   "execution_count": 22,
   "id": "7eba685c-2e78-460b-a87a-5742ef7db2a6",
   "metadata": {},
   "outputs": [
    {
     "data": {
      "text/plain": [
       "('19', 39)"
      ]
     },
     "execution_count": 22,
     "metadata": {},
     "output_type": "execute_result"
    }
   ],
   "source": [
    "new_dict = {}\n",
    "\n",
    "hours = {\n",
    "    accident[\"hour\"] for accident in accidents\n",
    "}\n",
    "\n",
    "for h in hours:\n",
    "    number_of_accidents = 0\n",
    "    for accident in accidents:\n",
    "        if accident[\"hour\"] == h:\n",
    "            number_of_accidents += 1\n",
    "            \n",
    "    new_dict[h] = number_of_accidents\n",
    "    \n",
    "sorted_dict = sorted(new_dict.items(), key=lambda x: x[1])\n",
    "\n",
    "hour_with_more_accidents = sorted_dict[-1]\n",
    "\n",
    "hour_with_more_accidents"
   ]
  },
  {
   "cell_type": "markdown",
   "id": "28bad20c-fa05-4709-95a3-f52a666a6fb8",
   "metadata": {},
   "source": [
    "### 5. Is bad weather correlated with more accidents?"
   ]
  },
  {
   "cell_type": "code",
   "execution_count": 23,
   "id": "1d59504a-4575-4227-9736-e551dd61df1f",
   "metadata": {},
   "outputs": [
    {
     "data": {
      "text/plain": [
       "{'clear': 407, 'heavy rain': 3, 'light rain': 24, 'cloudy': 14, 'unknown': 22}"
      ]
     },
     "execution_count": 23,
     "metadata": {},
     "output_type": "execute_result"
    }
   ],
   "source": [
    "weathers = {\n",
    "    accident[\"weather\"] for accident in accidents\n",
    "}\n",
    "\n",
    "accidents_per_weather = {}\n",
    "\n",
    "for weather in weathers:\n",
    "    counter = 0\n",
    "    for accident in accidents:\n",
    "        if accident[\"weather\"] == weather:\n",
    "            counter += 1\n",
    "            \n",
    "    accidents_per_weather[weather] = counter\n",
    "    \n",
    "accidents_per_weather"
   ]
  }
 ],
 "metadata": {
  "interpreter": {
   "hash": "a9f295c814a5ce7ff0b0a20f2b13117bfaf008fc7980e281f2c2bfa8e9ec0fbf"
  },
  "kernelspec": {
   "display_name": "Python [conda env:pyda1]",
   "language": "python",
   "name": "python3"
  },
  "language_info": {
   "codemirror_mode": {
    "name": "ipython",
    "version": 3
   },
   "file_extension": ".py",
   "mimetype": "text/x-python",
   "name": "python",
   "nbconvert_exporter": "python",
   "pygments_lexer": "ipython3",
   "version": "3.8.12"
  }
 },
 "nbformat": 4,
 "nbformat_minor": 5
}
