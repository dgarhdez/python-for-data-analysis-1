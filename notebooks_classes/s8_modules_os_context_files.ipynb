{
 "cells": [
  {
   "cell_type": "markdown",
   "id": "bf8ce742-c3b7-461a-bf5d-9e6c9fe735cc",
   "metadata": {},
   "source": [
    "# Session 8: Python modules, OS methods, and context manager and file handling"
   ]
  },
  {
   "cell_type": "markdown",
   "id": "77cec978-ccdf-4b29-ad08-572fd21bda72",
   "metadata": {},
   "source": [
    "## Python modules\n",
    "\n",
    "When we were loading the `spotify` data, we imported the `json` library.\n",
    "\n",
    "Why did we have to `import` that module?\n",
    "\n",
    "Well, Python only has a bunch of functions and values *stored* when we download the basic stuff. These are the `built-in` functions. These are functions like `list()`, `len()`, `max()`, etc. \n",
    "\n",
    "If we need more functions, objects, or methods, we have to use other modules that include more stuff. Modules are `.py` files that include the functionalities that you need. \n",
    "\n",
    "To import a module, we use the reserved keyword `import` followed by the name of the module. We can also include an alias to use the module with a shorter or more convenient name."
   ]
  },
  {
   "cell_type": "code",
   "execution_count": 1,
   "id": "3d0758b6-001b-4847-9b0f-6a21b66af5bd",
   "metadata": {},
   "outputs": [],
   "source": [
    "import json  # allows us to use the functionalities of the JSON module\n",
    "import pandas as pd  # allows us to use the pandas functions using `pd` as alias"
   ]
  },
  {
   "cell_type": "markdown",
   "id": "be060286",
   "metadata": {},
   "source": [
    "We can import only some of the functions and methods, or all of them, or the whole module. Depending on how we perform this import, we will use the elements in the module in different ways:\n",
    "\n",
    "* Whole module\n",
    "    * `import module`\n",
    "    * Usage of func1: `module.func1()`\n",
    "* Whole module with alias\n",
    "    * `import module as mod`\n",
    "    * Usage of func1: `mod.func1()`\n",
    "* Only some functions\n",
    "    * `from module import func1`\n",
    "    * Usage of func1: `func1()`\n",
    "* Import all individual functions\n",
    "    * `from module import *`\n",
    "    * Usage of func1: `func1()`"
   ]
  },
  {
   "cell_type": "markdown",
   "id": "509580d2-d6ba-4f71-b867-f742ffe783d8",
   "metadata": {},
   "source": [
    "We can create our own modules with our personal functions, by saving the code in a `.py` file, and then importing it."
   ]
  },
  {
   "cell_type": "code",
   "execution_count": 2,
   "id": "cc29dc31",
   "metadata": {},
   "outputs": [
    {
     "data": {
      "text/plain": [
       "'/Users/dgarhdez/Desktop/IE/Python/python1-oct2021/files'"
      ]
     },
     "execution_count": 2,
     "metadata": {},
     "output_type": "execute_result"
    }
   ],
   "source": [
    "# a little hint of what's to come\n",
    "import os  # allows us to use the functionalities of the OS module\n",
    "os.chdir(\"../files\")  # change the working directory to the files directory\n",
    "os.getcwd()  # get the current working directory"
   ]
  },
  {
   "cell_type": "code",
   "execution_count": 3,
   "id": "d62baa46",
   "metadata": {},
   "outputs": [
    {
     "name": "stdout",
     "output_type": "stream",
     "text": [
      "This function returns the unique letters a string has.\n"
     ]
    },
    {
     "data": {
      "text/plain": [
       "6"
      ]
     },
     "execution_count": 3,
     "metadata": {},
     "output_type": "execute_result"
    }
   ],
   "source": [
    "import dani_funcs\n",
    "\n",
    "dani_funcs.unique_letters(\"daniel\")"
   ]
  },
  {
   "cell_type": "code",
   "execution_count": 4,
   "id": "3d97555a-3baa-44ff-90f8-320dfb4f4a75",
   "metadata": {},
   "outputs": [
    {
     "name": "stdout",
     "output_type": "stream",
     "text": [
      "This function returns the unique letters a string has.\n"
     ]
    },
    {
     "data": {
      "text/plain": [
       "6"
      ]
     },
     "execution_count": 4,
     "metadata": {},
     "output_type": "execute_result"
    }
   ],
   "source": [
    "import dani_funcs as dani\n",
    "\n",
    "dani.unique_letters(\"daniel\")"
   ]
  },
  {
   "cell_type": "code",
   "execution_count": 5,
   "id": "b35db372-b4b2-4da3-a721-4871c2439f41",
   "metadata": {},
   "outputs": [
    {
     "name": "stdout",
     "output_type": "stream",
     "text": [
      "This function returns the unique letters a string has.\n"
     ]
    },
    {
     "data": {
      "text/plain": [
       "6"
      ]
     },
     "execution_count": 5,
     "metadata": {},
     "output_type": "execute_result"
    }
   ],
   "source": [
    "from dani_funcs import unique_letters\n",
    "\n",
    "unique_letters(\"python\")"
   ]
  },
  {
   "cell_type": "code",
   "execution_count": 6,
   "id": "2327e256",
   "metadata": {},
   "outputs": [
    {
     "name": "stdout",
     "output_type": "stream",
     "text": [
      "This function returns the unique letters a string has.\n"
     ]
    },
    {
     "data": {
      "text/plain": [
       "6"
      ]
     },
     "execution_count": 6,
     "metadata": {},
     "output_type": "execute_result"
    }
   ],
   "source": [
    "from dani_funcs import *\n",
    "\n",
    "unique_letters(\"python\")"
   ]
  },
  {
   "cell_type": "markdown",
   "id": "28158310-dbc4-4a84-97d2-01aa1a224ce5",
   "metadata": {},
   "source": [
    "## OS methods\n",
    "\n",
    "With python we can do plenty of the stuff we can do with linux commands.\n",
    "\n",
    "For using those functionalities in Python, we use the `os` module by importing it."
   ]
  },
  {
   "cell_type": "code",
   "execution_count": 7,
   "id": "6eb0ac67-3392-414e-ac07-b7e0ad60b5d3",
   "metadata": {},
   "outputs": [],
   "source": [
    "import os"
   ]
  },
  {
   "cell_type": "markdown",
   "id": "be3eee7d-8007-4ff4-80ca-39656263937a",
   "metadata": {},
   "source": [
    "And now we can use it.\n",
    "\n",
    "We can check which directory we're at: `os.getcwd()`\n",
    "\n",
    "Equivalent to `pwd`: present working directory"
   ]
  },
  {
   "cell_type": "code",
   "execution_count": 8,
   "id": "9e160f12-c0d6-4f65-ac91-c302176154d2",
   "metadata": {},
   "outputs": [
    {
     "data": {
      "text/plain": [
       "'/Users/dgarhdez/Desktop/IE/Python/python1-oct2021/files'"
      ]
     },
     "execution_count": 8,
     "metadata": {},
     "output_type": "execute_result"
    }
   ],
   "source": [
    "os.getcwd()"
   ]
  },
  {
   "cell_type": "markdown",
   "id": "b620a31f-375e-4f56-9721-0d1b14adde31",
   "metadata": {},
   "source": [
    "We can change the directory in which we're at with `os.chdir()`"
   ]
  },
  {
   "cell_type": "code",
   "execution_count": 9,
   "id": "ad75743d-c671-4c94-b33f-9883d396e647",
   "metadata": {},
   "outputs": [
    {
     "data": {
      "text/plain": [
       "'/Users/dgarhdez/Desktop/IE'"
      ]
     },
     "execution_count": 9,
     "metadata": {},
     "output_type": "execute_result"
    }
   ],
   "source": [
    "os.chdir(\"/Users/dgarhdez/Desktop/IE/\")\n",
    "\n",
    "# print the new working directory\n",
    "os.getcwd()"
   ]
  },
  {
   "cell_type": "markdown",
   "id": "07b0ec9f-077f-4a9a-9c97-3212e5946b71",
   "metadata": {},
   "source": [
    "Now we've changed directories, let's see what's inside! for that we use `os.listdir()`"
   ]
  },
  {
   "cell_type": "code",
   "execution_count": 10,
   "id": "8d9e2c21-4de7-414e-b27f-b5f006e6b600",
   "metadata": {},
   "outputs": [
    {
     "data": {
      "text/plain": [
       "['.DS_Store',\n",
       " 'data-analysis-with-pandas',\n",
       " 'new_object.txt',\n",
       " 'Python',\n",
       " 'new_object_2.txt',\n",
       " '.virtual_documents',\n",
       " 'ML2']"
      ]
     },
     "execution_count": 10,
     "metadata": {},
     "output_type": "execute_result"
    }
   ],
   "source": [
    "os.listdir()"
   ]
  },
  {
   "cell_type": "markdown",
   "id": "68dce482-32f1-45b2-aef9-d48d9154962e",
   "metadata": {},
   "source": [
    "We can create a new directory where we are: `os.mkdir(new_dir)`"
   ]
  },
  {
   "cell_type": "code",
   "execution_count": 11,
   "id": "bc6d8576-69dc-4983-a15c-231237d12084",
   "metadata": {},
   "outputs": [],
   "source": [
    "os.mkdir(\"test_directory\")"
   ]
  },
  {
   "cell_type": "markdown",
   "id": "c871099e-94d7-4881-88e6-cc7f9cec66bf",
   "metadata": {},
   "source": [
    "We can see the new directory we just created "
   ]
  },
  {
   "cell_type": "code",
   "execution_count": 12,
   "id": "f6c49654-8e5f-489b-8cb3-d4ecdbdd6bbf",
   "metadata": {},
   "outputs": [
    {
     "data": {
      "text/plain": [
       "['.DS_Store',\n",
       " 'data-analysis-with-pandas',\n",
       " 'new_object.txt',\n",
       " 'Python',\n",
       " 'new_object_2.txt',\n",
       " '.virtual_documents',\n",
       " 'test_directory',\n",
       " 'ML2']"
      ]
     },
     "execution_count": 12,
     "metadata": {},
     "output_type": "execute_result"
    }
   ],
   "source": [
    "os.listdir()"
   ]
  },
  {
   "cell_type": "markdown",
   "id": "8a5a8f77-67c4-490f-af16-b7e522f776df",
   "metadata": {},
   "source": [
    "We can remove a directory with `os.rmdir(dir_to_remove)`"
   ]
  },
  {
   "cell_type": "code",
   "execution_count": 13,
   "id": "932d52bf-753d-4e56-ace2-9e1e02524b70",
   "metadata": {},
   "outputs": [
    {
     "data": {
      "text/plain": [
       "['.DS_Store',\n",
       " 'data-analysis-with-pandas',\n",
       " 'new_object.txt',\n",
       " 'Python',\n",
       " 'new_object_2.txt',\n",
       " '.virtual_documents',\n",
       " 'ML2']"
      ]
     },
     "execution_count": 13,
     "metadata": {},
     "output_type": "execute_result"
    }
   ],
   "source": [
    "os.rmdir(\"test_directory\")\n",
    "\n",
    "os.listdir()"
   ]
  },
  {
   "cell_type": "markdown",
   "id": "efaf2c26-8712-47e1-8998-0e359ae1184a",
   "metadata": {},
   "source": [
    "To remove a file, we can use `os.remove(path_to_file)`"
   ]
  },
  {
   "cell_type": "markdown",
   "id": "ff6d17be-80c4-47f9-abac-9b96b20ae381",
   "metadata": {},
   "source": [
    "We can get the parent directory with `os.pardir`. This returns `\"..\"`. By joining this and our current directory with `os.path.join`, and then converting this into an absolute path with `os.path.abspath`, we get the path to our parent directory."
   ]
  },
  {
   "cell_type": "code",
   "execution_count": 14,
   "id": "fecb3845-3a39-4fcc-9314-9ff06e2a1247",
   "metadata": {},
   "outputs": [
    {
     "name": "stdout",
     "output_type": "stream",
     "text": [
      "Current directory: /Users/dgarhdez/Desktop/IE\n"
     ]
    }
   ],
   "source": [
    "# our current working directory\n",
    "path_cwd = os.getcwd()\n",
    "print(f\"Current directory: {path_cwd}\")"
   ]
  },
  {
   "cell_type": "code",
   "execution_count": 15,
   "id": "9e1c606a-5793-4339-ba66-e45da20ed15c",
   "metadata": {},
   "outputs": [
    {
     "data": {
      "text/plain": [
       "'/Users/dgarhdez/Desktop/IE/..'"
      ]
     },
     "execution_count": 15,
     "metadata": {},
     "output_type": "execute_result"
    }
   ],
   "source": [
    "# get parent directory and join to cwd\n",
    "# join takes independent strings, and joins them with the system's separator for paths\n",
    "parent_dir = os.path.join(path_cwd, os.pardir)\n",
    "parent_dir"
   ]
  },
  {
   "cell_type": "code",
   "execution_count": 16,
   "id": "4e10e426-ef2e-4fe6-aa6f-2d75b6bac8ec",
   "metadata": {},
   "outputs": [
    {
     "name": "stdout",
     "output_type": "stream",
     "text": [
      "Parent directory: /Users/dgarhdez/Desktop\n"
     ]
    }
   ],
   "source": [
    "# convert joined paths into absolute path\n",
    "# an absolute path is a \n",
    "print(f\"Parent directory: {os.path.abspath(parent_dir)}\")"
   ]
  },
  {
   "cell_type": "markdown",
   "id": "abb68ffa-fb76-433b-adda-81a8696a01dd",
   "metadata": {},
   "source": [
    "Another way to get the parent directory without `os.pardir` is using `os.path.dirname`:"
   ]
  },
  {
   "cell_type": "code",
   "execution_count": 17,
   "id": "f7f7b4b4-0bc5-4313-9732-85264b92b697",
   "metadata": {},
   "outputs": [
    {
     "name": "stdout",
     "output_type": "stream",
     "text": [
      "/Users/dgarhdez/Desktop/IE\n",
      "/Users/dgarhdez/Desktop\n"
     ]
    }
   ],
   "source": [
    "current_working_directory = os.getcwd()\n",
    "print(current_working_directory)\n",
    "\n",
    "parent_directory = os.path.dirname(current_working_directory)\n",
    "print(parent_directory)"
   ]
  },
  {
   "cell_type": "markdown",
   "id": "2049247b-2e3e-40b7-a796-4163b5e4784e",
   "metadata": {},
   "source": [
    "We can now list the elements in the parent directory with `os.listdir(path)`"
   ]
  },
  {
   "cell_type": "code",
   "execution_count": 18,
   "id": "b39ca5df-2a28-4554-b303-58577a1247b8",
   "metadata": {},
   "outputs": [
    {
     "data": {
      "text/plain": [
       "['personal',\n",
       " 'repos',\n",
       " 'Screenshot 2021-12-10 at 12.14.56.png',\n",
       " '.DS_Store',\n",
       " 'Screenshot 2021-12-08 at 19.08.09.png',\n",
       " 'cosillas',\n",
       " '.localized',\n",
       " 'libros',\n",
       " 'projects',\n",
       " 'Screenshot 2021-12-10 at 15.49.09.png',\n",
       " 'Screenshot 2021-12-10 at 14.29.02.png',\n",
       " 'Screenshot 2021-12-10 at 21.17.40.png',\n",
       " 'curro',\n",
       " 'Yaba',\n",
       " 'IE',\n",
       " 'newsletter']"
      ]
     },
     "execution_count": 18,
     "metadata": {},
     "output_type": "execute_result"
    }
   ],
   "source": [
    "os.listdir(parent_dir)"
   ]
  },
  {
   "cell_type": "code",
   "execution_count": 19,
   "id": "27448641-d8f0-47df-8423-97c4b636c986",
   "metadata": {},
   "outputs": [
    {
     "data": {
      "text/plain": [
       "'/Users/dgarhdez/Desktop/IE'"
      ]
     },
     "execution_count": 19,
     "metadata": {},
     "output_type": "execute_result"
    }
   ],
   "source": [
    "os.getcwd()"
   ]
  },
  {
   "cell_type": "markdown",
   "id": "4cb9936c-d6ad-4ea5-9c6e-948455c4c7f4",
   "metadata": {},
   "source": [
    "## File handling\n",
    "\n",
    "During our exercises with the `spotify` dataset, we opened a file and used the info contained in it with Python. We did so using a specifict command called `with`.\n",
    "\n",
    "In basic Python, the way to work with a file is the following:\n",
    "\n",
    "```Python\n",
    "f_obj = open(path_to_new_file, \"w\")  # create the file to write something in it\n",
    "f_obj.write(stuff_to_write)  # write stuff in our file\n",
    "f_obj.close()\n",
    "```\n",
    "The second argument we passed to `open()` is the type of action we want to perform in our file:\n",
    "* `'r'` open for reading (default). The file must exist, if not it will return an error.\n",
    "* `'w'` open for writing, truncating the file first. If the file doesn't exist, it creates it. \n",
    "* `'x'` open for exclusive creation, failing if the file already exists\n",
    "* `'a'` open for writing, appending to the end of file if it exists\n",
    "* `'+'` open for updating (reading and writing)"
   ]
  },
  {
   "cell_type": "code",
   "execution_count": 20,
   "id": "689b794e-0391-4619-a17f-eaf3f19c6afc",
   "metadata": {},
   "outputs": [
    {
     "name": "stdout",
     "output_type": "stream",
     "text": [
      "['.DS_Store', 'data-analysis-with-pandas', 'new_object.txt', 'Python', 'new_object_2.txt', '.virtual_documents', 'ML2']\n"
     ]
    }
   ],
   "source": [
    "print(os.listdir())"
   ]
  },
  {
   "cell_type": "code",
   "execution_count": 21,
   "id": "68f080bb-1c94-4784-8709-996895b840cf",
   "metadata": {},
   "outputs": [
    {
     "name": "stdout",
     "output_type": "stream",
     "text": [
      "['.DS_Store', 'data-analysis-with-pandas', 'new_object.txt', 'Python', 'new_object_2.txt', '.virtual_documents', 'ML2']\n",
      "['.DS_Store', 'data-analysis-with-pandas', 'new_object.txt', 'Python', 'new_object_2.txt', '.virtual_documents', 'ML2']\n"
     ]
    }
   ],
   "source": [
    "print(os.listdir())\n",
    "\n",
    "new_obj = open(\"new_object.txt\", \"w\")\n",
    "new_obj.write(\"daniel\")\n",
    "new_obj.close() # always close your files when finished with them!!!!\n",
    "\n",
    "print(os.listdir())"
   ]
  },
  {
   "cell_type": "markdown",
   "id": "d84ebd5e-3329-4cc2-9582-076153c5f79f",
   "metadata": {},
   "source": [
    "With this sequence of actions `open-write-close` we create a file, append something in it, and then close it. Again, always close your files. Otherwise the resources are going to be allocated to it indefinitely until you close it."
   ]
  },
  {
   "cell_type": "markdown",
   "id": "a3ad1330-d248-45be-8086-ccaa5747fe79",
   "metadata": {
    "tags": []
   },
   "source": [
    "## Context manager\n",
    "\n",
    "Context managers are a way of placing specific resources to perform specific tasks and removing the resources once the task is done. This removes the pressure of having to manually open and close files to perform tasks.\n",
    "\n",
    "What we did in the previous section, can be done as we learned:\n",
    "```Python\n",
    "f_obj = open(path_to_new_file, \"w\")  # create the file to write something in it\n",
    "f_obj.write(stuff_to_write)  # write stuff in our file\n",
    "f_obj.close() # close the file and stop allocating resources into it\n",
    "```\n",
    "\n",
    "Or we can do it now as follows:\n",
    "\n",
    "```Python\n",
    "with open(path_to_new_file, \"w\") as f_obj:  # create file\n",
    "    f_obj.write(stuff_to_write)  # write stuff in our file\n",
    "```"
   ]
  },
  {
   "cell_type": "code",
   "execution_count": 22,
   "id": "6c2d3786-26b9-4cac-9519-de7e1cf78e07",
   "metadata": {},
   "outputs": [],
   "source": [
    "with open(\"new_object_2.txt\", \"a\") as new_obj_2:\n",
    "    new_obj_2.write(\"hello world 2\")\n",
    "    \n",
    "# Once out of the with, the file is closed and saved"
   ]
  },
  {
   "cell_type": "markdown",
   "id": "bf575620-ffbf-45bb-a9c4-278dc94edb0f",
   "metadata": {},
   "source": [
    "As we see, with `with` we can encapsulate all the previous actions and be sure that the resource allocation will be efficient and we will not have to be manually doing it --Python will do it!"
   ]
  },
  {
   "cell_type": "markdown",
   "id": "6731fd14-893d-4bc1-af91-182a89b90370",
   "metadata": {},
   "source": [
    "### Exercises with files\n",
    "\n",
    "We now are used to Jupyter notebooks. They look super nice, but in the end, these files are nothing but text encoded in a way that it's useful to us.\n",
    "\n",
    "Let's see what's actually inside a Jupyter notebook, and what makes a Jupyter notebook useful."
   ]
  },
  {
   "cell_type": "code",
   "execution_count": 23,
   "id": "9dd71776-4eec-4096-8ce3-61e16af11f78",
   "metadata": {},
   "outputs": [
    {
     "name": "stdout",
     "output_type": "stream",
     "text": [
      "{\n",
      "\n",
      " \"cells\": [\n",
      "\n",
      "  {\n",
      "\n",
      "   \"cell_type\": \"markdown\",\n",
      "\n",
      "   \"id\": \"bf8ce742-c3b7-461a-bf5d-9e6c9fe735cc\",\n",
      "\n",
      "   \"metadata\": {},\n",
      "\n",
      "   \"source\": [\n",
      "\n",
      "    \"# Session 8: Python modules, OS methods, and context manager and file handling\"\n",
      "\n",
      "   ]\n",
      "\n",
      "  },\n",
      "\n"
     ]
    }
   ],
   "source": [
    "# let's open this notebook with `with open(...)`\n",
    "# make sure you're in the proper directory using `os.getcwd()`\n",
    "os.chdir(\"/Users/dgarhdez/Desktop/IE/Python/python1-oct2021/notebooks_classes\")\n",
    "\n",
    "with open(\"s8_modules_os_context_files.ipynb\") as fp:\n",
    "    for index, line in enumerate(fp):\n",
    "        # only print the first 10 lines\n",
    "        if index < 10:\n",
    "            print(line)\n",
    "        else:\n",
    "            break"
   ]
  },
  {
   "cell_type": "markdown",
   "id": "0d283907-2e9e-494b-9611-5b58c60fabc0",
   "metadata": {},
   "source": [
    "It looks like a combination of dictionaries and lists (JSON files) that contain the format, content and metadata of our notebook."
   ]
  },
  {
   "cell_type": "markdown",
   "id": "5f33b8e2-58cd-409c-9500-1de011416e2c",
   "metadata": {
    "tags": []
   },
   "source": [
    "### Example: txt file\n",
    "\n",
    "Let's open the file `example.txt` to see what's inside."
   ]
  },
  {
   "cell_type": "code",
   "execution_count": 24,
   "id": "e282293b-9771-4fd5-9bb8-3dad2060afe3",
   "metadata": {},
   "outputs": [
    {
     "ename": "FileNotFoundError",
     "evalue": "[Errno 2] No such file or directory: 'test.txt'",
     "output_type": "error",
     "traceback": [
      "\u001b[0;31m---------------------------------------------------------------------------\u001b[0m",
      "\u001b[0;31mFileNotFoundError\u001b[0m                         Traceback (most recent call last)",
      "\u001b[0;32m/var/folders/kn/gt9ggj051wdfjnfqv8xjl8qh0000gn/T/ipykernel_63344/1430065872.py\u001b[0m in \u001b[0;36m<module>\u001b[0;34m\u001b[0m\n\u001b[1;32m      1\u001b[0m \u001b[0;31m# if you try to read a file that doesn't exist it will return a FileNotFoundError\u001b[0m\u001b[0;34m\u001b[0m\u001b[0;34m\u001b[0m\u001b[0;34m\u001b[0m\u001b[0m\n\u001b[0;32m----> 2\u001b[0;31m \u001b[0;32mwith\u001b[0m \u001b[0mopen\u001b[0m\u001b[0;34m(\u001b[0m\u001b[0;34m\"test.txt\"\u001b[0m\u001b[0;34m,\u001b[0m \u001b[0;34m\"r\"\u001b[0m\u001b[0;34m)\u001b[0m \u001b[0;32mas\u001b[0m \u001b[0mf\u001b[0m\u001b[0;34m:\u001b[0m\u001b[0;34m\u001b[0m\u001b[0;34m\u001b[0m\u001b[0m\n\u001b[0m\u001b[1;32m      3\u001b[0m     \u001b[0mvar\u001b[0m \u001b[0;34m=\u001b[0m \u001b[0mf\u001b[0m\u001b[0;34m.\u001b[0m\u001b[0mread\u001b[0m\u001b[0;34m(\u001b[0m\u001b[0;34m)\u001b[0m\u001b[0;34m\u001b[0m\u001b[0;34m\u001b[0m\u001b[0m\n",
      "\u001b[0;31mFileNotFoundError\u001b[0m: [Errno 2] No such file or directory: 'test.txt'"
     ]
    }
   ],
   "source": [
    "# if you try to read a file that doesn't exist it will return a FileNotFoundError\n",
    "with open(\"test.txt\", \"r\") as f:\n",
    "    var = f.read()"
   ]
  },
  {
   "cell_type": "code",
   "execution_count": 25,
   "id": "e72ece2c-5e1b-4802-9c2c-50265ce9b04c",
   "metadata": {},
   "outputs": [
    {
     "data": {
      "text/plain": [
       "\"Hi there, here's some made up stuff.\\n\\nIn a new line too!\\n\\nAnother new line, wow!\""
      ]
     },
     "execution_count": 25,
     "metadata": {},
     "output_type": "execute_result"
    }
   ],
   "source": [
    "path_to_example = \"/Users/dgarhdez/Desktop/IE/Python/python1-oct2021/files/example_s9.txt\"\n",
    "\n",
    "with open(path_to_example) as f:\n",
    "    content = f.read()\n",
    "    \n",
    "content"
   ]
  },
  {
   "cell_type": "code",
   "execution_count": 26,
   "id": "dd7fc254",
   "metadata": {},
   "outputs": [
    {
     "name": "stdout",
     "output_type": "stream",
     "text": [
      "Hi there, here's some made up stuff.\n",
      "\n",
      "In a new line too!\n",
      "\n",
      "Another new line, wow!\n"
     ]
    }
   ],
   "source": [
    "print(content)"
   ]
  },
  {
   "cell_type": "markdown",
   "id": "714c8f36-5734-4fcf-b00c-a207583becb3",
   "metadata": {},
   "source": [
    "As we can see, the character `\\n` represents a new line in the file.\n",
    "\n",
    "Let's add more information to the file."
   ]
  },
  {
   "cell_type": "code",
   "execution_count": 27,
   "id": "3cdeb078-b901-47ff-a2ed-7cb896683ee4",
   "metadata": {},
   "outputs": [],
   "source": [
    "with open(path_to_example, \"a\") as example:\n",
    "    new_file = example.write(\"\\n\\nAnd here's even more stuff that we can add to the file!\")"
   ]
  },
  {
   "cell_type": "code",
   "execution_count": 28,
   "id": "6c8e84ab-8599-412d-b284-060410c92beb",
   "metadata": {},
   "outputs": [
    {
     "name": "stdout",
     "output_type": "stream",
     "text": [
      "Hi there, here's some made up stuff.\n",
      "\n",
      "In a new line too!\n",
      "\n",
      "Another new line, wow!\n",
      "\n",
      "And here's even more stuff that we can add to the file!\n"
     ]
    }
   ],
   "source": [
    "with open(path_to_example, \"r+\") as example:\n",
    "    content = example.read()\n",
    "    \n",
    "print(content)"
   ]
  },
  {
   "cell_type": "markdown",
   "id": "8646cdde-a46d-4ffd-8dbc-0a229a5e8550",
   "metadata": {},
   "source": [
    "As we see, the `\\n` character indicates where the new line should start, but is there a way to split the text into the lines it's supposed to be?\n",
    "\n",
    "Yes.\n",
    "\n",
    "Using `splitlines()`!"
   ]
  },
  {
   "cell_type": "code",
   "execution_count": 29,
   "id": "a960f47a-5282-4233-9bb4-8d8edc732daf",
   "metadata": {},
   "outputs": [
    {
     "data": {
      "text/plain": [
       "[\"Hi there, here's some made up stuff.\",\n",
       " '',\n",
       " 'In a new line too!',\n",
       " '',\n",
       " 'Another new line, wow!',\n",
       " '',\n",
       " \"And here's even more stuff that we can add to the file!\"]"
      ]
     },
     "execution_count": 29,
     "metadata": {},
     "output_type": "execute_result"
    }
   ],
   "source": [
    "content.splitlines()"
   ]
  },
  {
   "cell_type": "markdown",
   "id": "dc65f836-8b3a-4492-978a-18d70d697138",
   "metadata": {},
   "source": [
    "By splitting on the lines with `splitlines()` we're asking Python to return a list from the original text, using `\\n` as the argument to split on:\n",
    "\n",
    "```Python\n",
    "string.split(\"\\n\")\n",
    "```\n",
    "\n",
    "is equivalent to \n",
    "```Python\n",
    "string.splitlines()\n",
    "```"
   ]
  },
  {
   "cell_type": "code",
   "execution_count": 30,
   "id": "3d12dee1-d53d-4c86-9462-432ac6fdc2b5",
   "metadata": {},
   "outputs": [
    {
     "data": {
      "text/plain": [
       "True"
      ]
     },
     "execution_count": 30,
     "metadata": {},
     "output_type": "execute_result"
    }
   ],
   "source": [
    "content.split(\"\\n\") == content.splitlines()"
   ]
  },
  {
   "cell_type": "markdown",
   "id": "8475d96c-cd84-4cad-b24a-13ef9dd92c1c",
   "metadata": {
    "tags": []
   },
   "source": [
    "### Handling exceptions and errors\n",
    "\n",
    "In the past, we've faced situations in which we found an error in the code after executing it, and then we'd correct it and it'd run smoothly again. \n",
    "\n",
    "We can handle this situation in a more safe way, by making use of Exception and Error Handling.\n",
    "\n",
    "The syntax for error/exception handling is the following:\n",
    "\n",
    "```Python\n",
    "try:\n",
    "    # try to do something\n",
    "except error_or_exception_to_catch:\n",
    "    # do something if error happens\n",
    "else:\n",
    "    # do something else if error doesn't happen\n",
    "finally:\n",
    "    # always do this\n",
    "```"
   ]
  },
  {
   "cell_type": "markdown",
   "id": "79001974-c0d2-45be-a2c7-ba729ec96450",
   "metadata": {},
   "source": [
    "Let's read our notebook, encapsulating the possible errors in an `except` clause, and if no error happens, we print the first 5 lines of text. Also, at the end we print the status: `available` if the notebook exists, and `not available` otherwise."
   ]
  },
  {
   "cell_type": "code",
   "execution_count": 31,
   "id": "f0df5e73-ef00-4a1b-9d45-d8f9710b578f",
   "metadata": {},
   "outputs": [
    {
     "name": "stdout",
     "output_type": "stream",
     "text": [
      "['{', ' \"cells\": [', '  {', '   \"cell_type\": \"markdown\",', '   \"id\": \"bf8ce742-c3b7-461a-bf5d-9e6c9fe735cc\",']\n",
      "\n",
      "File `s8_modules_os_context_files.ipynb` is available\n"
     ]
    }
   ],
   "source": [
    "path_to_notebook = \"/Users/dgarhdez/Desktop/IE/Python/python1-oct2021/notebooks_classes/s8_modules_os_context_files.ipynb\"\n",
    "filename = path_to_notebook.split(\"/\")[-1]\n",
    "\n",
    "try:\n",
    "    with open(path_to_notebook) as fp:\n",
    "        content = fp.read()\n",
    "    status = \"available\"\n",
    "except FileNotFoundError as e:\n",
    "    print(e)\n",
    "    status = \"not available\"\n",
    "else:\n",
    "    print(content.splitlines()[:5])\n",
    "finally:\n",
    "    print(f\"\\nFile `{filename}` is {status}\")\n",
    "    \n",
    "# finally in if-elif-else conditionals?"
   ]
  },
  {
   "cell_type": "markdown",
   "id": "7f6b5691-6d7c-4f7e-b4a6-8e17956ab8d1",
   "metadata": {},
   "source": [
    "## Creating files from Python\n",
    "\n",
    "So far we've read and updated files, but we can also create files from scratch in Python.\n",
    "\n",
    "The syntax is very similar, the only different thing is what to do with the file.\n",
    "\n",
    "Let's use the following list , and store that information in a TXT file."
   ]
  },
  {
   "cell_type": "code",
   "execution_count": 32,
   "id": "638f43a4-787e-49c3-b71b-7c939b63acdf",
   "metadata": {},
   "outputs": [],
   "source": [
    "class_list = [\n",
    "    (\"daniel\", \"garcia\", \"33\"), # me\n",
    "    (\"churro\", \"garcia\", \"8\"), # my dog\n",
    "    (\"plant\", \"garcia\", \"3\"), # my plant\n",
    "]"
   ]
  },
  {
   "cell_type": "code",
   "execution_count": 33,
   "id": "68d5f7f0-c356-4535-9e99-c2c75ac77467",
   "metadata": {},
   "outputs": [
    {
     "data": {
      "text/plain": [
       "[(0, ('daniel', 'garcia', '33')),\n",
       " (1, ('churro', 'garcia', '8')),\n",
       " (2, ('plant', 'garcia', '3'))]"
      ]
     },
     "execution_count": 33,
     "metadata": {},
     "output_type": "execute_result"
    }
   ],
   "source": [
    "list(enumerate(class_list))"
   ]
  },
  {
   "cell_type": "code",
   "execution_count": 34,
   "id": "aaa5f313-2306-4176-9514-ced3b10bbcff",
   "metadata": {},
   "outputs": [],
   "source": [
    "os.chdir(\"../files\") # store the new file in files\n",
    "\n",
    "with open(\"class_list.txt\", \"w\") as fp: \n",
    "    for index, being in enumerate(class_list):\n",
    "        last_name = being[0]\n",
    "        name = being[1]\n",
    "        age = being[2]\n",
    "        fp.write(f\"{index},{last_name},{name},{age},\\n\")"
   ]
  },
  {
   "cell_type": "code",
   "execution_count": null,
   "id": "b58da30c-c0d3-4ec2-b77e-39bcf221dd8e",
   "metadata": {},
   "outputs": [],
   "source": []
  }
 ],
 "metadata": {
  "interpreter": {
   "hash": "a9f295c814a5ce7ff0b0a20f2b13117bfaf008fc7980e281f2c2bfa8e9ec0fbf"
  },
  "kernelspec": {
   "display_name": "Python [conda env:ml2] *",
   "language": "python",
   "name": "python3"
  },
  "language_info": {
   "codemirror_mode": {
    "name": "ipython",
    "version": 3
   },
   "file_extension": ".py",
   "mimetype": "text/x-python",
   "name": "python",
   "nbconvert_exporter": "python",
   "pygments_lexer": "ipython3",
   "version": "3.8.12"
  }
 },
 "nbformat": 4,
 "nbformat_minor": 5
}
