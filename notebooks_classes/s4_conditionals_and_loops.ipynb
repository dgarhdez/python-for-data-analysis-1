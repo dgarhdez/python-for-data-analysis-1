{
 "cells": [
  {
   "cell_type": "markdown",
   "metadata": {},
   "source": [
    "# Session 4. Conditionals and loops.\n",
    "\n",
    "Conditionals and loops are ways we have to `alter` the execution flow of a program willingly, so that we avoid parts we don't want to run under specific conditions, for example. This alteration of the code flow is called `control flow`.\n",
    "\n",
    "Another cool use of conditionals and loops is to reuse code under certain conditions. "
   ]
  },
  {
   "cell_type": "markdown",
   "metadata": {},
   "source": [
    "## Conditionals: `if-elif-else`\n",
    "\n",
    "Conditional statements, often referred to as if-then statements, allow the programmer to execute certain pieces of code depending on some Boolean condition. [1]\n",
    "\n",
    "[1] A Whirlwind Tour of Python"
   ]
  },
  {
   "cell_type": "code",
   "execution_count": 1,
   "metadata": {},
   "outputs": [],
   "source": [
    "name = \"Daniel\""
   ]
  },
  {
   "cell_type": "code",
   "execution_count": 2,
   "metadata": {},
   "outputs": [
    {
     "name": "stdout",
     "output_type": "stream",
     "text": [
      "Best name\n"
     ]
    }
   ],
   "source": [
    "if name == \"Daniel\":  # mandatory\n",
    "    print(\"Best name\")\n",
    "elif name == \"Marco\":  # optional, as many as you want per if\n",
    "    print(\"Pretty cool too\")\n",
    "else:  # optional, only one per if\n",
    "    print(\"Meraviglioso\")"
   ]
  },
  {
   "cell_type": "markdown",
   "metadata": {},
   "source": [
    "Conditionals check *conditions*. If the condition is met, the code goes through the statement right below the if. If it's not met, it passes through it without doing anything.\n",
    "\n",
    "It's mandatory to include the colon (:) after the condition, and to indent the statement after the if/elif/else."
   ]
  },
  {
   "cell_type": "markdown",
   "metadata": {
    "tags": []
   },
   "source": [
    "### Fahrenheit-Celsius calculator\n",
    "\n",
    "Takes in a string like \"58F\" or \"75C\" and coverts it from F to C and viceversa.\n",
    "\n",
    "* T(F) = 32 + T(C) * 1.8\n",
    "* T(C) = (T(F) - 32) / 1.8"
   ]
  },
  {
   "cell_type": "code",
   "execution_count": 3,
   "metadata": {},
   "outputs": [
    {
     "name": "stdout",
     "output_type": "stream",
     "text": [
      "Temp in C is 37.77777777777778, Temp in F is 100\n"
     ]
    }
   ],
   "source": [
    "temp = \"100F\"\n",
    "\n",
    "if \"C\" in temp:\n",
    "    num_temp_C = int(temp[:-1])\n",
    "    num_temp_F = 32 + num_temp_C * 1.8\n",
    "else:\n",
    "    num_temp_F = int(temp[:-1])\n",
    "    num_temp_C = (num_temp_F - 32) / 1.8\n",
    "    \n",
    "print(f\"Temp in C is {num_temp_C}, Temp in F is {num_temp_F}\")"
   ]
  },
  {
   "cell_type": "markdown",
   "metadata": {
    "tags": []
   },
   "source": [
    "### Input and control flow\n",
    "\n",
    "Save your name to a variable using `input()`. If the name is less than 5 chars long, print \"short\". If the name is between 5 and 15 chars print \"medium\". If the name is more than 15 chars long, print \"long\""
   ]
  },
  {
   "cell_type": "code",
   "execution_count": 6,
   "metadata": {},
   "outputs": [
    {
     "name": "stdout",
     "output_type": "stream",
     "text": [
      "Short!\n"
     ]
    }
   ],
   "source": [
    "name = \"tim\"\n",
    "\n",
    "if len(name) < 5:\n",
    "    print(\"Short!\")\n",
    "elif len(name)<=10:\n",
    "    print(\"Medium!\")\n",
    "else:\n",
    "    print(\"Long!\")"
   ]
  },
  {
   "cell_type": "markdown",
   "metadata": {},
   "source": [
    "### Nested conditionals\n",
    "\n",
    "We can include if-elif-else within if-elif-else. This is called nested conditionals. \n",
    "\n",
    "Use nested conditionals for checking if two numbers are equal. If they're not, print which one is bigger:"
   ]
  },
  {
   "cell_type": "code",
   "execution_count": 7,
   "metadata": {},
   "outputs": [
    {
     "name": "stdout",
     "output_type": "stream",
     "text": [
      "b (1000) is bigger than a (145)\n"
     ]
    }
   ],
   "source": [
    "a = 145\n",
    "b = 1000\n",
    "\n",
    "if a != b:\n",
    "    if a > b:\n",
    "        print(f\"a ({a}) is bigger than b ({b})\")\n",
    "    else:\n",
    "        print(f\"b ({b}) is bigger than a ({a})\")"
   ]
  },
  {
   "cell_type": "markdown",
   "metadata": {},
   "source": [
    "Use nested conditionals to assess prices of houses according to this rule. Use only 3 variables.\n",
    "\n",
    "* If the price is below 100k, buy it\n",
    "* If the price is between 100k and 400k\n",
    "    * Buy it if it's above 100 sqm\n",
    "    * Don't buy it if its under 100 sqm\n",
    "* If the price is above 400k\n",
    "    * Buy it if it's above 85 sqm\n",
    "    * Don't buy it if it's under 85 sqm"
   ]
  },
  {
   "cell_type": "code",
   "execution_count": 8,
   "metadata": {},
   "outputs": [],
   "source": [
    "price = 100\n",
    "sqm = 85\n",
    "if (price < 100):\n",
    "    buy = True\n",
    "elif (price >= 100) and (price < 400):\n",
    "    if (sqm > 100):\n",
    "        buy = True\n",
    "    else:\n",
    "        buy = False\n",
    "else:\n",
    "    if (sqm > 85):\n",
    "        buy = True\n",
    "    else:\n",
    "        buy = False"
   ]
  },
  {
   "cell_type": "markdown",
   "metadata": {},
   "source": [
    "In Python, if we don't specify the truth value of a condition in the `if`, we're checking for it to be `True`"
   ]
  },
  {
   "cell_type": "code",
   "execution_count": 9,
   "metadata": {},
   "outputs": [
    {
     "name": "stdout",
     "output_type": "stream",
     "text": [
      "yay!\n"
     ]
    }
   ],
   "source": [
    "# condition = 3 > 5\n",
    "\n",
    "if 3 > 5:\n",
    "    print(\"something something\")\n",
    "else:\n",
    "    print(\"yay!\")"
   ]
  },
  {
   "cell_type": "markdown",
   "metadata": {
    "tags": []
   },
   "source": [
    "## Loops: `for`\n",
    "\n",
    "`for` loops in Python are a way to repeatedly execute some code statement. The amount of times that the code will be run must be defined before the execution."
   ]
  },
  {
   "cell_type": "markdown",
   "metadata": {},
   "source": [
    "Build a for loop that takes in a string and returns the same string but converting the `upper` into `lower` and viceversa:"
   ]
  },
  {
   "cell_type": "code",
   "execution_count": 10,
   "metadata": {},
   "outputs": [
    {
     "data": {
      "text/plain": [
       "'AbDfgRTYh'"
      ]
     },
     "execution_count": 10,
     "metadata": {},
     "output_type": "execute_result"
    }
   ],
   "source": [
    "string_to_check = \"aBdFGrtyH\"\n",
    "\n",
    "new_string = \"\"\n",
    "\n",
    "for letter in string_to_check:\n",
    "    if letter == letter.upper():\n",
    "        new_letter = letter.lower()\n",
    "    else:\n",
    "        new_letter = letter.upper()\n",
    "    new_string = new_string + new_letter\n",
    "\n",
    "new_string"
   ]
  },
  {
   "cell_type": "markdown",
   "metadata": {},
   "source": [
    "Or use `swapcase()`"
   ]
  },
  {
   "cell_type": "code",
   "execution_count": null,
   "metadata": {},
   "outputs": [],
   "source": [
    "new_string == string_to_check.swapcase()"
   ]
  },
  {
   "cell_type": "markdown",
   "metadata": {},
   "source": [
    "We can mix in conditionals and `for` loops. \n",
    "\n",
    "Create a list with all the numbers from 1 to 100 using `range`. For each number, check if it's even or odd. If it's odd save it in a list, if it's even save it in another list."
   ]
  },
  {
   "cell_type": "code",
   "execution_count": 11,
   "metadata": {},
   "outputs": [],
   "source": [
    "num_range = range(1, 101)\n",
    "\n",
    "even_nums = []\n",
    "odd_nums = []\n",
    "\n",
    "for num in num_range:\n",
    "    # odd\n",
    "    if num % 2 == 0: # even!\n",
    "        even_nums.append(num)\n",
    "    else:\n",
    "        odd_nums.append(num)"
   ]
  },
  {
   "cell_type": "code",
   "execution_count": 12,
   "metadata": {},
   "outputs": [
    {
     "data": {
      "text/plain": [
       "[1,\n",
       " 3,\n",
       " 5,\n",
       " 7,\n",
       " 9,\n",
       " 11,\n",
       " 13,\n",
       " 15,\n",
       " 17,\n",
       " 19,\n",
       " 21,\n",
       " 23,\n",
       " 25,\n",
       " 27,\n",
       " 29,\n",
       " 31,\n",
       " 33,\n",
       " 35,\n",
       " 37,\n",
       " 39,\n",
       " 41,\n",
       " 43,\n",
       " 45,\n",
       " 47,\n",
       " 49,\n",
       " 51,\n",
       " 53,\n",
       " 55,\n",
       " 57,\n",
       " 59,\n",
       " 61,\n",
       " 63,\n",
       " 65,\n",
       " 67,\n",
       " 69,\n",
       " 71,\n",
       " 73,\n",
       " 75,\n",
       " 77,\n",
       " 79,\n",
       " 81,\n",
       " 83,\n",
       " 85,\n",
       " 87,\n",
       " 89,\n",
       " 91,\n",
       " 93,\n",
       " 95,\n",
       " 97,\n",
       " 99]"
      ]
     },
     "execution_count": 12,
     "metadata": {},
     "output_type": "execute_result"
    }
   ],
   "source": [
    "odd_nums"
   ]
  },
  {
   "cell_type": "code",
   "execution_count": 13,
   "metadata": {},
   "outputs": [
    {
     "data": {
      "text/plain": [
       "[2,\n",
       " 4,\n",
       " 6,\n",
       " 8,\n",
       " 10,\n",
       " 12,\n",
       " 14,\n",
       " 16,\n",
       " 18,\n",
       " 20,\n",
       " 22,\n",
       " 24,\n",
       " 26,\n",
       " 28,\n",
       " 30,\n",
       " 32,\n",
       " 34,\n",
       " 36,\n",
       " 38,\n",
       " 40,\n",
       " 42,\n",
       " 44,\n",
       " 46,\n",
       " 48,\n",
       " 50,\n",
       " 52,\n",
       " 54,\n",
       " 56,\n",
       " 58,\n",
       " 60,\n",
       " 62,\n",
       " 64,\n",
       " 66,\n",
       " 68,\n",
       " 70,\n",
       " 72,\n",
       " 74,\n",
       " 76,\n",
       " 78,\n",
       " 80,\n",
       " 82,\n",
       " 84,\n",
       " 86,\n",
       " 88,\n",
       " 90,\n",
       " 92,\n",
       " 94,\n",
       " 96,\n",
       " 98,\n",
       " 100]"
      ]
     },
     "execution_count": 13,
     "metadata": {},
     "output_type": "execute_result"
    }
   ],
   "source": [
    "even_nums"
   ]
  },
  {
   "cell_type": "markdown",
   "metadata": {},
   "source": [
    "For the alphabet, if the letter is vowel print it uppercase, if not print it lowercase"
   ]
  },
  {
   "cell_type": "code",
   "execution_count": 14,
   "metadata": {},
   "outputs": [
    {
     "name": "stdout",
     "output_type": "stream",
     "text": [
      "A\n",
      "b\n",
      "c\n",
      "d\n",
      "E\n",
      "f\n",
      "g\n",
      "h\n",
      "I\n",
      "j\n",
      "k\n",
      "l\n",
      "m\n",
      "n\n",
      "O\n",
      "p\n",
      "q\n",
      "r\n",
      "s\n",
      "t\n",
      "U\n",
      "v\n",
      "w\n",
      "x\n",
      "y\n",
      "z\n"
     ]
    }
   ],
   "source": [
    "vowels = \"aeiou\"\n",
    "for letter in \"abcdefghijklmnopqrstuvwxyz\":\n",
    "    if letter in vowels:\n",
    "        print(letter.upper())\n",
    "    else:\n",
    "        print(letter.lower())"
   ]
  },
  {
   "cell_type": "markdown",
   "metadata": {},
   "source": [
    "## Loops: `while`"
   ]
  },
  {
   "cell_type": "markdown",
   "metadata": {},
   "source": [
    "We know that in `for` loops we have to specify the amount of times the loop will run for.\n",
    "\n",
    "In `while` loops we have to specify a `condition` that while met, the loop will run nonstop. When it's not met, it'll stop."
   ]
  },
  {
   "cell_type": "code",
   "execution_count": 16,
   "metadata": {},
   "outputs": [
    {
     "name": "stdout",
     "output_type": "stream",
     "text": [
      "0\n",
      "1\n",
      "2\n",
      "3\n",
      "4\n",
      "5\n",
      "6\n",
      "7\n",
      "8\n",
      "9\n"
     ]
    }
   ],
   "source": [
    "# print numbers iteratively while number < 10:\n",
    "a = 0\n",
    "\n",
    "while a < 10:\n",
    "    print(a)\n",
    "    a += 1\n",
    "    "
   ]
  },
  {
   "cell_type": "markdown",
   "metadata": {},
   "source": [
    "It's very easy to freeze a computer if you build an infinite loop with a `while`. In the following example the while is gonna run forever and you're gonna have to shut down the kernel. Don't say I didn't warn you!!"
   ]
  },
  {
   "cell_type": "code",
   "execution_count": null,
   "metadata": {},
   "outputs": [],
   "source": [
    "# while True:\n",
    "#     print(\"lol\")"
   ]
  },
  {
   "cell_type": "markdown",
   "metadata": {},
   "source": [
    "Use `while` to print the following structure: in the first line 1 asterisk, in the second line 2 asterisks, and so on until the 10th line."
   ]
  },
  {
   "cell_type": "code",
   "execution_count": 17,
   "metadata": {},
   "outputs": [
    {
     "name": "stdout",
     "output_type": "stream",
     "text": [
      "*\n",
      "**\n",
      "***\n",
      "****\n",
      "*****\n",
      "******\n",
      "*******\n",
      "********\n",
      "*********\n",
      "**********\n"
     ]
    }
   ],
   "source": [
    "a = 1\n",
    "while a <= 10:\n",
    "    print(\"*\" * a)\n",
    "    a += 1"
   ]
  },
  {
   "cell_type": "markdown",
   "metadata": {},
   "source": [
    "## Altering loops: `break` and `continue`\n",
    "\n",
    "If we want to artificially go out of a loop without finishing it, we can use `break`"
   ]
  },
  {
   "cell_type": "code",
   "execution_count": 18,
   "metadata": {},
   "outputs": [
    {
     "name": "stdout",
     "output_type": "stream",
     "text": [
      "d\n",
      "a\n",
      "n\n"
     ]
    }
   ],
   "source": [
    "# break in for loop\n",
    "\n",
    "for character in \"daniel\":\n",
    "    if character == \"i\":\n",
    "        break\n",
    "    print(character)"
   ]
  },
  {
   "cell_type": "code",
   "execution_count": 19,
   "metadata": {},
   "outputs": [
    {
     "name": "stdout",
     "output_type": "stream",
     "text": [
      "1\n",
      "2\n",
      "3\n",
      "4\n"
     ]
    }
   ],
   "source": [
    "# break in while loop\n",
    "\n",
    "a = 1\n",
    "while a < 10:\n",
    "    if a == 5:\n",
    "        break\n",
    "    print(a)\n",
    "    a += 1"
   ]
  },
  {
   "cell_type": "markdown",
   "metadata": {},
   "source": [
    "If we want to artifically go back at the beginning of the loop, we can use `continue`"
   ]
  },
  {
   "cell_type": "code",
   "execution_count": 20,
   "metadata": {},
   "outputs": [
    {
     "name": "stdout",
     "output_type": "stream",
     "text": [
      "d\n",
      "a\n",
      "n\n",
      "e\n",
      "l\n"
     ]
    }
   ],
   "source": [
    "# continue in for loop\n",
    "\n",
    "for character in \"daniel\":\n",
    "    if character == \"i\":\n",
    "        continue\n",
    "    print(character)"
   ]
  },
  {
   "cell_type": "code",
   "execution_count": 21,
   "metadata": {},
   "outputs": [
    {
     "name": "stdout",
     "output_type": "stream",
     "text": [
      "1\n",
      "2\n",
      "4\n",
      "5\n",
      "6\n",
      "7\n",
      "8\n",
      "9\n"
     ]
    }
   ],
   "source": [
    "# continue in while loop\n",
    "\n",
    "a = 1\n",
    "\n",
    "while a < 10:\n",
    "    if a == 3:\n",
    "        a += 1\n",
    "        continue\n",
    "    print(a)\n",
    "    a += 1"
   ]
  },
  {
   "cell_type": "markdown",
   "metadata": {
    "tags": []
   },
   "source": [
    "## Fizzbuzz\n",
    "\n",
    "Print all the numbers from 1 to 100, except that:\n",
    "- If the number is divisible by 3, write Fizz instead of the number\n",
    "- If the number is divisible by 5, write Buzz instead of the number\n",
    "- If the number is divisible by 3 and 5 both, write FizzBuzz instead of the number"
   ]
  },
  {
   "cell_type": "code",
   "execution_count": 22,
   "metadata": {},
   "outputs": [
    {
     "name": "stdout",
     "output_type": "stream",
     "text": [
      "1\n",
      "2\n",
      "Fizz\n",
      "4\n",
      "Buzz\n",
      "Fizz\n",
      "7\n",
      "8\n",
      "Fizz\n",
      "Buzz\n",
      "11\n",
      "Fizz\n",
      "13\n",
      "14\n",
      "FizzBuzz\n",
      "16\n",
      "17\n",
      "Fizz\n",
      "19\n",
      "Buzz\n",
      "Fizz\n",
      "22\n",
      "23\n",
      "Fizz\n",
      "Buzz\n",
      "26\n",
      "Fizz\n",
      "28\n",
      "29\n",
      "FizzBuzz\n",
      "31\n",
      "32\n",
      "Fizz\n",
      "34\n",
      "Buzz\n",
      "Fizz\n",
      "37\n",
      "38\n",
      "Fizz\n",
      "Buzz\n",
      "41\n",
      "Fizz\n",
      "43\n",
      "44\n",
      "FizzBuzz\n",
      "46\n",
      "47\n",
      "Fizz\n",
      "49\n",
      "Buzz\n",
      "Fizz\n",
      "52\n",
      "53\n",
      "Fizz\n",
      "Buzz\n",
      "56\n",
      "Fizz\n",
      "58\n",
      "59\n",
      "FizzBuzz\n",
      "61\n",
      "62\n",
      "Fizz\n",
      "64\n",
      "Buzz\n",
      "Fizz\n",
      "67\n",
      "68\n",
      "Fizz\n",
      "Buzz\n",
      "71\n",
      "Fizz\n",
      "73\n",
      "74\n",
      "FizzBuzz\n",
      "76\n",
      "77\n",
      "Fizz\n",
      "79\n",
      "Buzz\n",
      "Fizz\n",
      "82\n",
      "83\n",
      "Fizz\n",
      "Buzz\n",
      "86\n",
      "Fizz\n",
      "88\n",
      "89\n",
      "FizzBuzz\n",
      "91\n",
      "92\n",
      "Fizz\n",
      "94\n",
      "Buzz\n",
      "Fizz\n",
      "97\n",
      "98\n",
      "Fizz\n",
      "Buzz\n"
     ]
    }
   ],
   "source": [
    "for num in range(1, 101):\n",
    "    if num % 5 == 0 and num % 3 == 0:\n",
    "        print(\"FizzBuzz\")\n",
    "    elif num % 3 == 0:\n",
    "        print(\"Fizz\")\n",
    "    elif num % 5 == 0:\n",
    "        print(\"Buzz\")\n",
    "    else:\n",
    "        print(num)"
   ]
  },
  {
   "cell_type": "markdown",
   "metadata": {},
   "source": [
    "Let's assign a number to each name, indicating how many different letters the name has.\n",
    "\n",
    "For example:\n",
    "* Somebody called \"Pepe\" would have a number of 2, since they would only have 2 different letters: \"p\" and \"e\".\n",
    "* Somebody called \"Daniel\" would have a number of 6, since every letter it their name is unique.\n",
    "* Somebody called \"Juana\" would have a number of 4, since the \"a\" is repeated"
   ]
  },
  {
   "cell_type": "code",
   "execution_count": 27,
   "metadata": {},
   "outputs": [
    {
     "name": "stdout",
     "output_type": "stream",
     "text": [
      "\n",
      "      The name Pepe contains 2 different letters:\n",
      "      ['p', 'e']\n",
      "      \n"
     ]
    }
   ],
   "source": [
    "name = \"Pepe\"\n",
    "name_ratings = []\n",
    "\n",
    "\n",
    "unique_letters_in_name = []\n",
    "for letter in name:\n",
    "    if letter.lower() in unique_letters_in_name:\n",
    "        continue\n",
    "    else:\n",
    "        unique_letters_in_name.append(letter.lower())\n",
    "\n",
    "total_unique_letters = len(unique_letters_in_name)\n",
    "    \n",
    "print(f\"\"\"\n",
    "      The name {name} contains {total_unique_letters} different letters:\n",
    "      {unique_letters_in_name}\n",
    "      \"\"\")"
   ]
  }
 ],
 "metadata": {
  "interpreter": {
   "hash": "a9f295c814a5ce7ff0b0a20f2b13117bfaf008fc7980e281f2c2bfa8e9ec0fbf"
  },
  "kernelspec": {
   "display_name": "Python 3.8.12 64-bit ('ml2': conda)",
   "name": "python3"
  },
  "language_info": {
   "codemirror_mode": {
    "name": "ipython",
    "version": 3
   },
   "file_extension": ".py",
   "mimetype": "text/x-python",
   "name": "python",
   "nbconvert_exporter": "python",
   "pygments_lexer": "ipython3",
   "version": "3.8.12"
  }
 },
 "nbformat": 4,
 "nbformat_minor": 4
}
