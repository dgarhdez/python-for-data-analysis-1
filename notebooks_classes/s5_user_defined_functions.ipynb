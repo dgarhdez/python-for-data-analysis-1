{
 "cells": [
  {
   "cell_type": "markdown",
   "metadata": {},
   "source": [
    "# Session 5: User-defined functions\n",
    "\n",
    "## Introduction\n",
    "\n",
    "So far we've written pieces of code that worked, but we could not organize in a neat way our code: it was scattered all over a notebook, and if would want to reuse it, we'd have to copy and paste it in another cell, and then re-run it.\n",
    "\n",
    "We can organize our code, name it, save it in memory and reuse it by using **user-defined functions** (UDFs, or functions).\n",
    "\n",
    "We know functions already:\n",
    "* `print()`, `int()`, `float()`, `len()`, `abs()`...\n",
    "\n",
    "Functions are used by calling their name followed by parentheses, and including the arguments --if needed-- within the parentheses.\n",
    "\n",
    "Functions are defined in Python with the reserved keyword `def` followed by the name of the function, parentheses and colon. The outputs are defined at the end of the function, after the keyword `return`\n",
    "\n",
    "```Python\n",
    "def func_name(argument_1, argument_2, ..., argument_n):\n",
    "    using_the_arguments_somehow\n",
    "    return output_1, output_2, ..., output_m\n",
    "```\n",
    "\n",
    "Let's create a basic function that takes 3 numbers, adds them and returns the total sum:"
   ]
  },
  {
   "cell_type": "code",
   "execution_count": 1,
   "metadata": {},
   "outputs": [],
   "source": [
    "def sum_3_nums(num1, num2, num3):\n",
    "    sum_nums = num1 + num2 + num3\n",
    "    return sum_nums"
   ]
  },
  {
   "cell_type": "markdown",
   "metadata": {},
   "source": [
    "And now we can use our function as many times as we want, with the arguments that we want "
   ]
  },
  {
   "cell_type": "code",
   "execution_count": 2,
   "metadata": {},
   "outputs": [
    {
     "data": {
      "text/plain": [
       "15"
      ]
     },
     "execution_count": 2,
     "metadata": {},
     "output_type": "execute_result"
    }
   ],
   "source": [
    "sum_nums = sum_3_nums(3, 5, 7)\n",
    "\n",
    "sum_nums"
   ]
  },
  {
   "cell_type": "markdown",
   "metadata": {},
   "source": [
    "We can create and use functions without specifying any output, if we don't want to. In that case, and by default, the function will return `None`"
   ]
  },
  {
   "cell_type": "code",
   "execution_count": 3,
   "metadata": {},
   "outputs": [],
   "source": [
    "def print_something_3_times(something):\n",
    "    print(something)\n",
    "    print(something)\n",
    "    print(something)"
   ]
  },
  {
   "cell_type": "code",
   "execution_count": 4,
   "metadata": {},
   "outputs": [
    {
     "name": "stdout",
     "output_type": "stream",
     "text": [
      "Hola\n",
      "Hola\n",
      "Hola\n"
     ]
    }
   ],
   "source": [
    "print_something_3_times(\"Hola\")"
   ]
  },
  {
   "cell_type": "markdown",
   "metadata": {},
   "source": [
    "If we assign the result of the function to a variable, and evaluate the variable, we see that it's `None`"
   ]
  },
  {
   "cell_type": "code",
   "execution_count": 5,
   "metadata": {},
   "outputs": [
    {
     "name": "stdout",
     "output_type": "stream",
     "text": [
      "hola\n",
      "hola\n",
      "hola\n"
     ]
    }
   ],
   "source": [
    "var_none = print_something_3_times(\"hola\")"
   ]
  },
  {
   "cell_type": "code",
   "execution_count": 7,
   "metadata": {},
   "outputs": [],
   "source": [
    "var_none  # it returns nothing, since it contains None"
   ]
  },
  {
   "cell_type": "code",
   "execution_count": 6,
   "metadata": {},
   "outputs": [
    {
     "data": {
      "text/plain": [
       "NoneType"
      ]
     },
     "execution_count": 6,
     "metadata": {},
     "output_type": "execute_result"
    }
   ],
   "source": [
    "type(var_none)"
   ]
  },
  {
   "cell_type": "markdown",
   "metadata": {},
   "source": [
    "## Some practice\n",
    "\n",
    "Build a function that receives a list of numbers, and returns the sum and the multiplication of all the numbers"
   ]
  },
  {
   "cell_type": "code",
   "execution_count": 7,
   "metadata": {},
   "outputs": [],
   "source": [
    "def sum_mult_list(list_to_use):\n",
    "    \n",
    "    # adding the numbers\n",
    "    sum_nums = sum(list_to_use)\n",
    "    \n",
    "    # multiplying the numbers\n",
    "    mult_nums = 1\n",
    "    for num in list_to_use:\n",
    "        # mult_nums *= num\n",
    "        mult_nums = mult_nums * num\n",
    "    \n",
    "    return sum_nums, mult_nums"
   ]
  },
  {
   "cell_type": "code",
   "execution_count": 8,
   "metadata": {},
   "outputs": [
    {
     "data": {
      "text/plain": [
       "(18, 192)"
      ]
     },
     "execution_count": 8,
     "metadata": {},
     "output_type": "execute_result"
    }
   ],
   "source": [
    "sum_mult_list([4, 6, 8])"
   ]
  },
  {
   "cell_type": "code",
   "execution_count": 9,
   "metadata": {},
   "outputs": [],
   "source": [
    "# we can save each individual output in its own variable\n",
    "sum_nums, mult_nums = sum_mult_list([4, 6, 8])"
   ]
  },
  {
   "cell_type": "code",
   "execution_count": 10,
   "metadata": {},
   "outputs": [
    {
     "name": "stdout",
     "output_type": "stream",
     "text": [
      "18 192\n"
     ]
    }
   ],
   "source": [
    "print(sum_nums, mult_nums)"
   ]
  },
  {
   "cell_type": "markdown",
   "metadata": {},
   "source": [
    "Build a function that receives a string and returns the string reverted: `func(\"hola\") >> \"aloh\"`"
   ]
  },
  {
   "cell_type": "code",
   "execution_count": 11,
   "metadata": {},
   "outputs": [],
   "source": [
    "def revert_string(str_to_use):\n",
    "    reversed_string = str_to_use[::-1]\n",
    "    return reversed_string"
   ]
  },
  {
   "cell_type": "code",
   "execution_count": 12,
   "metadata": {},
   "outputs": [
    {
     "data": {
      "text/plain": [
       "'tnaw uoy revetahw'"
      ]
     },
     "execution_count": 12,
     "metadata": {},
     "output_type": "execute_result"
    }
   ],
   "source": [
    "revert_string(\"whatever you want\")"
   ]
  },
  {
   "cell_type": "markdown",
   "metadata": {},
   "source": [
    "## Arguments: input, and positional and keyword arguments\n",
    "\n",
    "Arguments are the pieces of external information that the function uses to perform its task. We input the arguments within parentheses when defining and using a function.\n",
    "\n",
    "There are two type of arguments:\n",
    "* Keyword arguments: arguments preceded by an identifyer\n",
    "* Positional arguments: are arguments that are not keyword\n",
    "\n",
    "We can use arguments when calling a function by inputting them using their definition order, or we can bypass the order by using their keyword when inputting them.\n",
    "\n",
    "Let's see an example:\n",
    "* The following function has two arguments: `num` and `list_to_append_to`"
   ]
  },
  {
   "cell_type": "code",
   "execution_count": 13,
   "metadata": {},
   "outputs": [],
   "source": [
    "# define a function\n",
    "def append_num_to_list(num, list_to_append_to):\n",
    "    list_to_append_to.append(num)\n",
    "    return list_to_append_to"
   ]
  },
  {
   "cell_type": "markdown",
   "metadata": {},
   "source": [
    "We can input the arguments when using the function without using their names, but then we have to follow the definition order: first `num` and then `list_to_append_to`"
   ]
  },
  {
   "cell_type": "code",
   "execution_count": 14,
   "metadata": {},
   "outputs": [
    {
     "data": {
      "text/plain": [
       "[1, 2, 5, 3]"
      ]
     },
     "execution_count": 14,
     "metadata": {},
     "output_type": "execute_result"
    }
   ],
   "source": [
    "append_num_to_list(3, [1, 2, 5])  # works"
   ]
  },
  {
   "cell_type": "code",
   "execution_count": 17,
   "metadata": {},
   "outputs": [
    {
     "ename": "AttributeError",
     "evalue": "'int' object has no attribute 'append'",
     "output_type": "error",
     "traceback": [
      "\u001b[0;31m---------------------------------------------------------------------------\u001b[0m",
      "\u001b[0;31mAttributeError\u001b[0m                            Traceback (most recent call last)",
      "\u001b[0;32m/var/folders/kn/gt9ggj051wdfjnfqv8xjl8qh0000gn/T/ipykernel_64852/577886436.py\u001b[0m in \u001b[0;36m<module>\u001b[0;34m\u001b[0m\n\u001b[0;32m----> 1\u001b[0;31m \u001b[0mappend_num_to_list\u001b[0m\u001b[0;34m(\u001b[0m\u001b[0;34m[\u001b[0m\u001b[0;36m1\u001b[0m\u001b[0;34m,\u001b[0m \u001b[0;36m2\u001b[0m\u001b[0;34m,\u001b[0m \u001b[0;36m5\u001b[0m\u001b[0;34m]\u001b[0m\u001b[0;34m,\u001b[0m \u001b[0;36m3\u001b[0m\u001b[0;34m)\u001b[0m  \u001b[0;31m# doesn't work, not following positional order\u001b[0m\u001b[0;34m\u001b[0m\u001b[0;34m\u001b[0m\u001b[0m\n\u001b[0m",
      "\u001b[0;32m/var/folders/kn/gt9ggj051wdfjnfqv8xjl8qh0000gn/T/ipykernel_64852/3035643161.py\u001b[0m in \u001b[0;36mappend_num_to_list\u001b[0;34m(num, list_to_append_to)\u001b[0m\n\u001b[1;32m      1\u001b[0m \u001b[0;31m# define a function\u001b[0m\u001b[0;34m\u001b[0m\u001b[0;34m\u001b[0m\u001b[0;34m\u001b[0m\u001b[0m\n\u001b[1;32m      2\u001b[0m \u001b[0;32mdef\u001b[0m \u001b[0mappend_num_to_list\u001b[0m\u001b[0;34m(\u001b[0m\u001b[0mnum\u001b[0m\u001b[0;34m,\u001b[0m \u001b[0mlist_to_append_to\u001b[0m\u001b[0;34m)\u001b[0m\u001b[0;34m:\u001b[0m\u001b[0;34m\u001b[0m\u001b[0;34m\u001b[0m\u001b[0m\n\u001b[0;32m----> 3\u001b[0;31m     \u001b[0mlist_to_append_to\u001b[0m\u001b[0;34m.\u001b[0m\u001b[0mappend\u001b[0m\u001b[0;34m(\u001b[0m\u001b[0mnum\u001b[0m\u001b[0;34m)\u001b[0m\u001b[0;34m\u001b[0m\u001b[0;34m\u001b[0m\u001b[0m\n\u001b[0m\u001b[1;32m      4\u001b[0m     \u001b[0;32mreturn\u001b[0m \u001b[0mlist_to_append_to\u001b[0m\u001b[0;34m\u001b[0m\u001b[0;34m\u001b[0m\u001b[0m\n",
      "\u001b[0;31mAttributeError\u001b[0m: 'int' object has no attribute 'append'"
     ]
    }
   ],
   "source": [
    "append_num_to_list([1, 2, 5], 3)  # doesn't work, not following positional order"
   ]
  },
  {
   "cell_type": "code",
   "execution_count": 18,
   "metadata": {},
   "outputs": [
    {
     "data": {
      "text/plain": [
       "[1, 2, 5, 3]"
      ]
     },
     "execution_count": 18,
     "metadata": {},
     "output_type": "execute_result"
    }
   ],
   "source": [
    "append_num_to_list(list_to_append_to=[1, 2, 5], num=3)  # works"
   ]
  },
  {
   "cell_type": "code",
   "execution_count": 19,
   "metadata": {},
   "outputs": [
    {
     "data": {
      "text/plain": [
       "[1, 2, 5, 3]"
      ]
     },
     "execution_count": 19,
     "metadata": {},
     "output_type": "execute_result"
    }
   ],
   "source": [
    "append_num_to_list(3, list_to_append_to=[1, 2, 5])  # works"
   ]
  },
  {
   "cell_type": "code",
   "execution_count": 20,
   "metadata": {},
   "outputs": [
    {
     "ename": "SyntaxError",
     "evalue": "positional argument follows keyword argument (3886003967.py, line 1)",
     "output_type": "error",
     "traceback": [
      "\u001b[0;36m  File \u001b[0;32m\"/var/folders/kn/gt9ggj051wdfjnfqv8xjl8qh0000gn/T/ipykernel_64852/3886003967.py\"\u001b[0;36m, line \u001b[0;32m1\u001b[0m\n\u001b[0;31m    append_num_to_list(list_to_append_to=[1, 2, 5], 3)  # will not work\u001b[0m\n\u001b[0m                                                    ^\u001b[0m\n\u001b[0;31mSyntaxError\u001b[0m\u001b[0;31m:\u001b[0m positional argument follows keyword argument\n"
     ]
    }
   ],
   "source": [
    "append_num_to_list(list_to_append_to=[1, 2, 5], 3)  # will not work\n",
    "# mixing positional and keyword, we have to start by positional args"
   ]
  },
  {
   "cell_type": "markdown",
   "metadata": {},
   "source": [
    "## Default arguments\n",
    "\n",
    "Sometimes, we use functions that always use the same value of a specific argument, but on the other hand we want to give the end user some flexibility.\n",
    "\n",
    "For example, when defining the function that returns the freezing and boiling point of water in Celsius, but if we specify other system our function should work too:"
   ]
  },
  {
   "cell_type": "code",
   "execution_count": 21,
   "metadata": {},
   "outputs": [],
   "source": [
    "def water_temps_fb(system=\"C\"):\n",
    "    if system == \"C\":\n",
    "        boil = 100\n",
    "        freeze = 0\n",
    "    else:\n",
    "        boil = 212\n",
    "        freeze = 32\n",
    "    \n",
    "    return f\"Water boils at {boil}{system} and freezes at {freeze}{system}\""
   ]
  },
  {
   "cell_type": "markdown",
   "metadata": {},
   "source": [
    "One of the nice things of using default arguments is that if we dont input that argument in the function when using it, Python will take the value we had by default!"
   ]
  },
  {
   "cell_type": "code",
   "execution_count": 22,
   "metadata": {},
   "outputs": [
    {
     "data": {
      "text/plain": [
       "'Water boils at 100C and freezes at 0C'"
      ]
     },
     "execution_count": 22,
     "metadata": {},
     "output_type": "execute_result"
    }
   ],
   "source": [
    "# specifying the system:\n",
    "# Celsius\n",
    "water_temps_fb(\"C\")"
   ]
  },
  {
   "cell_type": "code",
   "execution_count": 23,
   "metadata": {},
   "outputs": [
    {
     "data": {
      "text/plain": [
       "'Water boils at 212F and freezes at 32F'"
      ]
     },
     "execution_count": 23,
     "metadata": {},
     "output_type": "execute_result"
    }
   ],
   "source": [
    "# Fahrenheit\n",
    "water_temps_fb(\"F\")"
   ]
  },
  {
   "cell_type": "code",
   "execution_count": 24,
   "metadata": {},
   "outputs": [
    {
     "data": {
      "text/plain": [
       "'Water boils at 100C and freezes at 0C'"
      ]
     },
     "execution_count": 24,
     "metadata": {},
     "output_type": "execute_result"
    }
   ],
   "source": [
    "# Not specifying the system will use the default argument\n",
    "water_temps_fb() "
   ]
  },
  {
   "cell_type": "markdown",
   "metadata": {},
   "source": [
    "## Exercises"
   ]
  },
  {
   "cell_type": "markdown",
   "metadata": {},
   "source": [
    "1. Create a function that returns all the dividers of a number"
   ]
  },
  {
   "cell_type": "code",
   "execution_count": 25,
   "metadata": {},
   "outputs": [],
   "source": [
    "def dividers(num):\n",
    "    \n",
    "    dividers = []\n",
    "    # using for loops\n",
    "    # for number in range(1, num+1):\n",
    "    #     if num % number == 0:\n",
    "    #         dividers.append(number)\n",
    "            \n",
    "    # using while loops\n",
    "    number = 1\n",
    "    while number <= num:\n",
    "        if num % number == 0:\n",
    "            dividers.append(number)\n",
    "        number += 1\n",
    "    \n",
    "    return dividers"
   ]
  },
  {
   "cell_type": "code",
   "execution_count": 26,
   "metadata": {},
   "outputs": [
    {
     "data": {
      "text/plain": [
       "[1, 2, 4, 5, 8, 10, 20, 40]"
      ]
     },
     "execution_count": 26,
     "metadata": {},
     "output_type": "execute_result"
    }
   ],
   "source": [
    "dividers(40)"
   ]
  },
  {
   "cell_type": "markdown",
   "metadata": {},
   "source": [
    "2. Create a function that takes a number and uses `dividers()`, and returns True if the numer is prime and False otherwise."
   ]
  },
  {
   "cell_type": "code",
   "execution_count": 27,
   "metadata": {},
   "outputs": [],
   "source": [
    "def is_prime(num):\n",
    "    divs = dividers(num)\n",
    "    if divs == [1]:\n",
    "        return True\n",
    "    if divs == [1, num]:\n",
    "        return True\n",
    "    else:\n",
    "        return False"
   ]
  },
  {
   "cell_type": "code",
   "execution_count": 28,
   "metadata": {},
   "outputs": [
    {
     "data": {
      "text/plain": [
       "True"
      ]
     },
     "execution_count": 28,
     "metadata": {},
     "output_type": "execute_result"
    }
   ],
   "source": [
    "is_prime(3)"
   ]
  },
  {
   "cell_type": "markdown",
   "metadata": {},
   "source": [
    "3. Create a function that receives a list of numbers and returns a list of booleans according to wether or not each item is prime or not"
   ]
  },
  {
   "cell_type": "code",
   "execution_count": 30,
   "metadata": {},
   "outputs": [],
   "source": [
    "def is_prime_list(list_of_numbers, way=\"dani\"):\n",
    "    boolean_prime_numbers = []\n",
    "    for number in list_of_numbers:\n",
    "        boolean_prime_numbers.append(is_prime(number))\n",
    "            \n",
    "    return boolean_prime_numbers"
   ]
  },
  {
   "cell_type": "code",
   "execution_count": 31,
   "metadata": {},
   "outputs": [
    {
     "data": {
      "text/plain": [
       "[True, False, True]"
      ]
     },
     "execution_count": 31,
     "metadata": {},
     "output_type": "execute_result"
    }
   ],
   "source": [
    "is_prime_list([1, 4, 7])"
   ]
  },
  {
   "cell_type": "markdown",
   "metadata": {
    "tags": []
   },
   "source": [
    "## Moonshot\n",
    "### Lambda functions: \n",
    "\n",
    "`lambda` functions are anonymous functions (don't have a name) that we create for a single use, we use them and then they die.\n",
    "\n",
    "The structure of a `lambda` function is the following:\n",
    "```Python\n",
    "lambda arg1, arg2: operation with args\n",
    "```\n",
    "\n",
    "This type of functions is very useful for example when using `map` or `filter`. \n",
    "\n",
    "1. `map` allows us to apply a function to each item in an iterable and then returns another iterable with the result (actually it returns a generator):\n",
    "    ```Python\n",
    "    map(function_to_apply, iterable)\n",
    "    ```\n",
    "1. `filter` allows us to filter an iterable according to a condition defined in a function:\n",
    "    ```Python\n",
    "    filter(condition_to_check, iterable)\n",
    "    ```\n"
   ]
  },
  {
   "cell_type": "markdown",
   "metadata": {},
   "source": [
    "### Example: `map` and functions/`lambda`"
   ]
  },
  {
   "cell_type": "code",
   "execution_count": 32,
   "metadata": {},
   "outputs": [
    {
     "data": {
      "text/plain": [
       "[1, 4, 9, 16]"
      ]
     },
     "execution_count": 32,
     "metadata": {},
     "output_type": "execute_result"
    }
   ],
   "source": [
    "# create list:\n",
    "lst = [1, 2, 3, 4]\n",
    "\n",
    "# create new list that contains the square of each item in the previous list:\n",
    "# lst ** 2 doesn't work, btw\n",
    "\n",
    "# define the function to use:\n",
    "def square(x):\n",
    "    return x ** 2\n",
    "\n",
    "list(map(square, lst))"
   ]
  },
  {
   "cell_type": "code",
   "execution_count": 33,
   "metadata": {},
   "outputs": [
    {
     "data": {
      "text/plain": [
       "[1, 4, 9, 16]"
      ]
     },
     "execution_count": 33,
     "metadata": {},
     "output_type": "execute_result"
    }
   ],
   "source": [
    "# or use lambda functions: create it, use it, and then it dies in the void\n",
    "\n",
    "list(map(lambda x: x**2, lst))"
   ]
  },
  {
   "cell_type": "markdown",
   "metadata": {},
   "source": [
    "### Example: `filter` and functions/`lambda`"
   ]
  },
  {
   "cell_type": "code",
   "execution_count": 34,
   "metadata": {},
   "outputs": [
    {
     "data": {
      "text/plain": [
       "[2, 4]"
      ]
     },
     "execution_count": 34,
     "metadata": {},
     "output_type": "execute_result"
    }
   ],
   "source": [
    "# create list:\n",
    "lst = [1, 2, 3, 4]\n",
    "\n",
    "# return list containing the items in lst that are even\n",
    "\n",
    "# define the function to use:\n",
    "def is_even(x):\n",
    "    flag = False\n",
    "    if x % 2 == 0:\n",
    "        flag = True\n",
    "    return flag\n",
    "\n",
    "list(filter(is_even, lst))"
   ]
  },
  {
   "cell_type": "code",
   "execution_count": 35,
   "metadata": {},
   "outputs": [
    {
     "data": {
      "text/plain": [
       "[2, 4]"
      ]
     },
     "execution_count": 35,
     "metadata": {},
     "output_type": "execute_result"
    }
   ],
   "source": [
    "# or use lambda functions: create it, use it, and then it dies in the void\n",
    "\n",
    "list(filter(lambda x: x%2==0, lst))"
   ]
  },
  {
   "cell_type": "markdown",
   "metadata": {
    "tags": []
   },
   "source": [
    "### Recursion:\n",
    "\n",
    "When defining a function that needs to do a task over and over again, we can include that task within a `for` or `while` loop, or use recursion.\n",
    "\n",
    "For example, to calculate the factorial of a number: `factorial(x) = x(x-1)(x-2)..`"
   ]
  },
  {
   "cell_type": "code",
   "execution_count": 36,
   "metadata": {},
   "outputs": [
    {
     "data": {
      "text/plain": [
       "5040"
      ]
     },
     "execution_count": 36,
     "metadata": {},
     "output_type": "execute_result"
    }
   ],
   "source": [
    "# we can do it with a for loop\n",
    "def iterative_factorial(x):\n",
    "    fact = 1\n",
    "    for i in range(x):\n",
    "        fact *= x - i\n",
    "    return fact\n",
    "        \n",
    "iterative_factorial(7)"
   ]
  },
  {
   "cell_type": "code",
   "execution_count": 37,
   "metadata": {},
   "outputs": [
    {
     "data": {
      "text/plain": [
       "5040"
      ]
     },
     "execution_count": 37,
     "metadata": {},
     "output_type": "execute_result"
    }
   ],
   "source": [
    "# or we can do it with recursion\n",
    "\n",
    "def recursive_factorial(x):\n",
    "    # base case\n",
    "    if x == 1:\n",
    "        return 1\n",
    "    # recursive case\n",
    "    else:\n",
    "        return x * recursive_factorial(x-1)\n",
    "    \n",
    "recursive_factorial(7)"
   ]
  },
  {
   "cell_type": "code",
   "execution_count": 38,
   "metadata": {},
   "outputs": [
    {
     "name": "stdout",
     "output_type": "stream",
     "text": [
      "1.74 µs ± 10.7 ns per loop (mean ± std. dev. of 7 runs, 1000000 loops each)\n"
     ]
    }
   ],
   "source": [
    "%%timeit\n",
    "iterative_factorial(25)"
   ]
  },
  {
   "cell_type": "code",
   "execution_count": 39,
   "metadata": {},
   "outputs": [
    {
     "name": "stdout",
     "output_type": "stream",
     "text": [
      "2.74 µs ± 24.9 ns per loop (mean ± std. dev. of 7 runs, 100000 loops each)\n"
     ]
    }
   ],
   "source": [
    "%%timeit\n",
    "recursive_factorial(25)"
   ]
  },
  {
   "cell_type": "markdown",
   "metadata": {},
   "source": [
    "In general, the iterative approach uses less memory and is faster than a recursive approach, but the strength of recursion resides in the clarity and simplicity, and it performs really well in tree-based algorithms (Machine Learning 2: Decision tree, Random forests, Gradient boosting, etc)"
   ]
  },
  {
   "cell_type": "code",
   "execution_count": null,
   "metadata": {},
   "outputs": [],
   "source": []
  }
 ],
 "metadata": {
  "interpreter": {
   "hash": "a9f295c814a5ce7ff0b0a20f2b13117bfaf008fc7980e281f2c2bfa8e9ec0fbf"
  },
  "kernelspec": {
   "display_name": "Python 3.8.12 64-bit ('ml2': conda)",
   "name": "python3"
  },
  "language_info": {
   "codemirror_mode": {
    "name": "ipython",
    "version": 3
   },
   "file_extension": ".py",
   "mimetype": "text/x-python",
   "name": "python",
   "nbconvert_exporter": "python",
   "pygments_lexer": "ipython3",
   "version": "3.8.12"
  }
 },
 "nbformat": 4,
 "nbformat_minor": 4
}
