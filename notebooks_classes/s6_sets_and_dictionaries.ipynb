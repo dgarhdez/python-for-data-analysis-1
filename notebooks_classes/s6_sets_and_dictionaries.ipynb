{
 "cells": [
  {
   "cell_type": "markdown",
   "id": "726e2376-a667-40b8-a9d4-f8684f19d207",
   "metadata": {},
   "source": [
    "# Session 6: sets and dictionaries"
   ]
  },
  {
   "cell_type": "markdown",
   "id": "6135cc22-426a-49a2-9d75-cbe7beae1893",
   "metadata": {},
   "source": [
    "## Sets\n",
    "\n",
    "Sets contain unordered collections of unique items. They're defined in a similar way to lists and tuples, but this time with curly brackets: `{}`. Or with `set()`.\n",
    "\n",
    "```Python\n",
    "my_set = {1, 2, 3}\n",
    "```\n",
    "\n",
    "The principal characteristic of sets is that they can only contain *unique* items."
   ]
  },
  {
   "cell_type": "code",
   "execution_count": null,
   "id": "b222bd80-6b8c-4eb1-a088-9ee621ab2a8c",
   "metadata": {},
   "outputs": [],
   "source": [
    "set1 = {1, 1, 2, 2, 3, 3}\n",
    "\n",
    "set1"
   ]
  },
  {
   "cell_type": "code",
   "execution_count": null,
   "id": "aba0b29e-fe77-4769-b5ac-46c040bf90d6",
   "metadata": {},
   "outputs": [],
   "source": [
    "set2 = set([1, 1, 2, 2, 3, 3])\n",
    "\n",
    "set2"
   ]
  },
  {
   "cell_type": "markdown",
   "id": "66d8c9c8-ca97-418c-a20e-ebd22aa93f92",
   "metadata": {
    "tags": []
   },
   "source": [
    "Say we want to check how many unique characters are there in a string:\n",
    "* \"lava\" has 3 unique characters: \"l\", \"a\", \"v\"\n",
    "* \"savannah\" has 5 unique characters: \"s\", \"a\", \"v\", \"n\", \"h\"\n",
    "\n",
    "If we want to get the *unique characters* in a string we can use a for loop:"
   ]
  },
  {
   "cell_type": "code",
   "execution_count": null,
   "id": "d4af437d-563f-4eb2-87a4-8378edd5e459",
   "metadata": {},
   "outputs": [],
   "source": [
    "str_to_check = \"savannah\"\n",
    "\n",
    "unique_chars = []\n",
    "for character in str_to_check:\n",
    "    if character in unique_chars:\n",
    "        continue\n",
    "    else:\n",
    "        unique_chars.append(character)\n",
    "        \n",
    "unique_chars"
   ]
  },
  {
   "cell_type": "markdown",
   "id": "7c4613b3-d082-44c1-a66b-507697de952e",
   "metadata": {},
   "source": [
    "Or we can use `set()` on a list with all the characters"
   ]
  },
  {
   "cell_type": "code",
   "execution_count": null,
   "id": "cff9e8e9-19a0-45ac-a98c-97d6d55d399f",
   "metadata": {},
   "outputs": [],
   "source": [
    "set(list(str_to_check))"
   ]
  },
  {
   "cell_type": "markdown",
   "id": "d517c552-0406-454a-a5f8-eceafaf9328d",
   "metadata": {},
   "source": [
    "### Basic set theory\n",
    "\n",
    "Since we have learned how to build containers that store unique items, we can use some Set Theory on them.\n",
    "\n",
    "Say we have two sets: `A` and `B`\n",
    "\n",
    "* Union of `A` and `B`: items appearing in either. Use `|` or A.union(B)\n",
    "* Intersection of `A` and `B`: items appearing in both. Use `&` or A.intersection(B)\n",
    "* Difference of `A` and `B`: items in `A` but not in  `B`. Use `-` or A.difference(B)\n",
    "* Symmetric difference of `A` and `B`: items in only `A` or only `B`, but not in both. Use `^` or A.symmetric_difference(B)"
   ]
  },
  {
   "cell_type": "code",
   "execution_count": null,
   "id": "0e854bc5-b793-4c3f-99ef-c0143e47bd2f",
   "metadata": {},
   "outputs": [],
   "source": [
    "setA = {2, 3, 5, 7}\n",
    "setB = {1, 3, 5, 7, 9}"
   ]
  },
  {
   "cell_type": "code",
   "execution_count": null,
   "id": "6779f816-ce17-4ff8-b716-09060cf86f2d",
   "metadata": {},
   "outputs": [],
   "source": [
    "# union: items appearing in either\n",
    "setA | setB"
   ]
  },
  {
   "cell_type": "code",
   "execution_count": null,
   "id": "075837a0-ad02-4e31-9f77-75e5f99a090d",
   "metadata": {},
   "outputs": [],
   "source": [
    "# intersection: items appearing in both\n",
    "setA & setB"
   ]
  },
  {
   "cell_type": "code",
   "execution_count": null,
   "id": "c3c5ada0-583c-43e5-90ef-ac20a1ea2963",
   "metadata": {},
   "outputs": [],
   "source": [
    "# difference: items in setA but not in setB\n",
    "setA - setB"
   ]
  },
  {
   "cell_type": "code",
   "execution_count": null,
   "id": "db293bde-33a3-4de4-abfe-f66943353700",
   "metadata": {},
   "outputs": [],
   "source": [
    "# symmetric difference: items appearing in only one set\n",
    "setA ^ setB"
   ]
  },
  {
   "cell_type": "markdown",
   "id": "3415824f-5faa-42c7-8818-78c4965f14f2",
   "metadata": {},
   "source": [
    "### Culinary example for Set Theory! \n",
    "\n",
    "For a set of 3 dishes and their ingredients, let's find similaritie and differences"
   ]
  },
  {
   "cell_type": "code",
   "execution_count": null,
   "id": "c75cf028-25a1-46cc-86ed-76268b28822d",
   "metadata": {},
   "outputs": [],
   "source": [
    "hummus = {\"chickpeas\", \"olive oil\", \"garlic\", \"tahini\", \"lemon juice\", \"salt\"}\n",
    "cocido = {\"chickpeas\", \"olive oil\", \"meat\", \"chicken\", \"veggies\", \"salt\"}\n",
    "allioli = {\"olive oil\", \"garlic\", \"salt\"}"
   ]
  },
  {
   "cell_type": "code",
   "execution_count": null,
   "id": "cafe477e-f76b-484b-8cca-a0e61adf15c1",
   "metadata": {},
   "outputs": [],
   "source": [
    "# what's common to the three dishes?\n",
    "\n",
    "hummus & cocido & allioli"
   ]
  },
  {
   "cell_type": "code",
   "execution_count": null,
   "id": "5c436b4a-6264-4fcd-9a04-b11a68f8616b",
   "metadata": {},
   "outputs": [],
   "source": [
    "# what's in hummus that's not in allioli\n",
    "hummus - allioli"
   ]
  },
  {
   "cell_type": "code",
   "execution_count": null,
   "id": "b49dedc5-7bae-4168-9022-b7540535a826",
   "metadata": {},
   "outputs": [],
   "source": [
    "# what are the differential ingredients in cocido and hummus?\n",
    "\n",
    "cocido ^ hummus"
   ]
  },
  {
   "cell_type": "code",
   "execution_count": null,
   "id": "4dc63b3c-7cb7-4a36-9ec7-61c58467bee2",
   "metadata": {},
   "outputs": [],
   "source": [
    "# if we want to prepare hummus and allioli, which ingredients should we buy?\n",
    "\n",
    "hummus | allioli"
   ]
  },
  {
   "cell_type": "markdown",
   "id": "13b8a0a1-5848-4213-9260-a87a08192bb5",
   "metadata": {},
   "source": [
    "### Updating sets\n",
    "\n",
    "We can't mutate sets, but we can add items to a set by using `update()`. This will add the new items *in place*."
   ]
  },
  {
   "cell_type": "code",
   "execution_count": null,
   "id": "e9fbfb86-efbe-4139-a653-c2c1aa22eafa",
   "metadata": {},
   "outputs": [],
   "source": [
    "cocido.update(allioli)\n",
    "\n",
    "cocido"
   ]
  },
  {
   "cell_type": "markdown",
   "id": "1bc8ff79-89b2-4169-b8a8-b6c25b0ce92e",
   "metadata": {
    "tags": []
   },
   "source": [
    "## Dictionaries\n",
    "\n",
    "Dictionaries are very flexible ways of mapping keys to values. Dictionaries are a super container, that can contain other containers. \n",
    "\n",
    "We define dictionaries with `dict()` or with curly brackets `{}`like sets **but** we specify keys and values. \n",
    "\n",
    "Let's create a dictionary with people names and ages using `{}`"
   ]
  },
  {
   "cell_type": "code",
   "execution_count": null,
   "id": "3b35d277-9f75-4523-b14b-71a86a360b04",
   "metadata": {},
   "outputs": [],
   "source": [
    "people_dict = {\n",
    "    \"dani\": 33,\n",
    "    \"jean\": 30,\n",
    "    \"pablo\": 25,\n",
    "    \"hannah\": 75\n",
    "}\n",
    "\n",
    "people_dict"
   ]
  },
  {
   "cell_type": "markdown",
   "id": "84a02ee3-ad2f-446a-99c9-f313d72e70f0",
   "metadata": {},
   "source": [
    "We can also build a dictionary using `dict()` and passing to it a sequence of key-value pairs, like a list of tuples:"
   ]
  },
  {
   "cell_type": "code",
   "execution_count": null,
   "id": "ae4b1f78-1e4e-4320-9799-31158ab189a5",
   "metadata": {},
   "outputs": [],
   "source": [
    "another_dict = dict([(\"dani\", 33), (\"jean\", 30)])\n",
    "\n",
    "another_dict"
   ]
  },
  {
   "cell_type": "markdown",
   "id": "751949db-a5a9-40b5-a136-dd324350a837",
   "metadata": {},
   "source": [
    "### Keys and values\n",
    "\n",
    "Dictionaries, as mentioned, have `keys` and `values`. We can access those independently using the methods `.keys()` and `.values()` on `dict` objects"
   ]
  },
  {
   "cell_type": "code",
   "execution_count": null,
   "id": "8a4ab6e4-aeb4-48fd-954d-4db323598066",
   "metadata": {},
   "outputs": [],
   "source": [
    "ks = people_dict.keys()\n",
    "\n",
    "ks"
   ]
  },
  {
   "cell_type": "code",
   "execution_count": null,
   "id": "13c1cf26-129a-4f71-9195-6d69fae91802",
   "metadata": {},
   "outputs": [],
   "source": [
    "vs = people_dict.values()\n",
    "\n",
    "vs"
   ]
  },
  {
   "cell_type": "markdown",
   "id": "94c24e65-d2a8-41ca-8c71-4f7901249ed1",
   "metadata": {},
   "source": [
    "Another way to build dictionaries: using `zip` with two containers: one for keys and one for values\n",
    "\n",
    "```Python\n",
    "new_dict = dict(zip(keys, values))\n",
    "```"
   ]
  },
  {
   "cell_type": "code",
   "execution_count": null,
   "id": "c676ca10-22e5-4e50-aea4-f4777f289854",
   "metadata": {},
   "outputs": [],
   "source": [
    "words = [\"hola\", \"adios\", \"bye\"]  # keys\n",
    "len_words = [4, 5, 3]  # values\n",
    "\n",
    "words_dict = dict(zip(words, len_words))\n",
    "\n",
    "words_dict"
   ]
  },
  {
   "cell_type": "markdown",
   "id": "9bff16f8-4874-43f7-8181-140253d8efd5",
   "metadata": {},
   "source": [
    "### Updating dictionaries\n",
    "\n",
    "Dictionaries, like sets, can use update:"
   ]
  },
  {
   "cell_type": "code",
   "execution_count": null,
   "id": "3284a4ad-7cfb-4d10-9104-de5742f1b7a2",
   "metadata": {},
   "outputs": [],
   "source": [
    "# lets add another entry to our people-age dictionary: paco, 45 years old\n",
    "people_dict.update({\"paco\": 45})\n",
    "\n",
    "people_dict"
   ]
  },
  {
   "cell_type": "markdown",
   "id": "1ac0b2fd-499e-4e9a-bf2f-e49fc604036e",
   "metadata": {},
   "source": [
    "Or we can add individual items this way:\n",
    "\n",
    "```Python\n",
    "dictionary[new_key] = new_value\n",
    "```"
   ]
  },
  {
   "cell_type": "code",
   "execution_count": null,
   "id": "6cd0f7c7-4b6e-4cb5-86ce-32bae46abe1e",
   "metadata": {},
   "outputs": [],
   "source": [
    "people_dict[\"rose\"] = 22\n",
    "\n",
    "people_dict"
   ]
  },
  {
   "cell_type": "markdown",
   "id": "0caef644-fbb4-47af-8242-fc820a10d8a1",
   "metadata": {},
   "source": [
    "### Looping through dictionaries\n",
    "\n",
    "When looping through list, tuples or sets, we can just:\n",
    "\n",
    "```Python\n",
    "for item in my_list:\n",
    "    something_with_item\n",
    "    \n",
    "for item in my_tuple:\n",
    "    something_with_item\n",
    "    \n",
    "for item in my_set:\n",
    "    something_with_item\n",
    "```\n",
    "\n",
    "But if we do the same with a dictionary, we're going to loop only through the keys:"
   ]
  },
  {
   "cell_type": "code",
   "execution_count": null,
   "id": "bed16440-0eb1-4a7e-8539-67f1463162c5",
   "metadata": {},
   "outputs": [],
   "source": [
    "for item in people_dict:\n",
    "    print(item)"
   ]
  },
  {
   "cell_type": "markdown",
   "id": "aaf8c0da-219e-42cd-8e4d-498ab93eedea",
   "metadata": {},
   "source": [
    "So in order to loop and access *both* keys and their assigned value, we have to use the method `items()` on our dict first. By using `items()` we convert the dictionary into a list of tuples with the following format:\n",
    "\n",
    "```Python\n",
    "my_dict.items() \n",
    ">> [(key_1, value_1), (key_2, value_2), ..., (key_n, value_n)]\n",
    "```\n",
    "\n",
    "And now we can loop through each item in that list:\n",
    "\n",
    "\n",
    "```Python\n",
    "for key, value in my_dict.items():\n",
    "    something_with_key_and_value\n",
    "```"
   ]
  },
  {
   "cell_type": "code",
   "execution_count": null,
   "id": "99deee9d-c7d5-4315-bd1b-382e19040a03",
   "metadata": {},
   "outputs": [],
   "source": [
    "# printing name and age in the same string for each key-value pair\n",
    "for name, age in people_dict.items():\n",
    "    print(f\"{name} is {age} years old\")"
   ]
  },
  {
   "cell_type": "markdown",
   "id": "3e30c1f5-3ace-4011-8347-c1fa2444b5df",
   "metadata": {},
   "source": [
    "### Nested dictionaries\n",
    "\n",
    "Just like lists, we can nest dictionaries:"
   ]
  },
  {
   "cell_type": "code",
   "execution_count": null,
   "id": "dbd6b863-b3cc-4fb3-a95d-2266e7e5493b",
   "metadata": {},
   "outputs": [],
   "source": [
    "nested_dict = {\n",
    "    \"person_1\": {\"name\": \"daniel\", \"age\": 33},\n",
    "    \"person_2\": {\"name\": \"pepe\", \"age\": 30}\n",
    "}\n",
    "\n",
    "nested_dict"
   ]
  },
  {
   "cell_type": "code",
   "execution_count": null,
   "id": "f09a0c4a-6c66-4b4d-8bbe-572674077762",
   "metadata": {},
   "outputs": [],
   "source": [
    "nested_dict[\"person_1\"]"
   ]
  },
  {
   "cell_type": "code",
   "execution_count": null,
   "id": "db68d66f-7e71-490a-93ff-c06ecd313ed8",
   "metadata": {},
   "outputs": [],
   "source": [
    "nested_dict[\"person_2\"][\"age\"]"
   ]
  },
  {
   "cell_type": "markdown",
   "id": "499d6d00-ac08-44ee-a8c9-90b5face5670",
   "metadata": {},
   "source": [
    "### Sorting a dictionary\n",
    "\n",
    "By default, dictionaries don't follow an order intelligible by humans, that's what makes them so efficient at handling information.\n",
    "\n",
    "But we can use some tricks to sort them according to what we want:\n",
    "1. Use `dict.items()`\n",
    "2. Specifying the order using``key`` and a function -- `lambda`\n",
    "3. Use `sorted()`\n",
    "4. Save new sorted dict"
   ]
  },
  {
   "cell_type": "code",
   "execution_count": null,
   "id": "665713ea-406d-4769-8d6c-3ae25e9fbfe6",
   "metadata": {},
   "outputs": [],
   "source": [
    "# Sort people_dict according to the names (first item in each item)\n",
    "sorted_people_dict = dict(sorted(people_dict.items(), key=lambda item: item[0]))\n",
    "\n",
    "sorted_people_dict"
   ]
  },
  {
   "cell_type": "code",
   "execution_count": null,
   "id": "38257d29-1374-4ea2-a777-6866dfb97def",
   "metadata": {},
   "outputs": [],
   "source": [
    "# Sort people_dict according to the age (second item in each item)\n",
    "sorted_people_dict = dict(sorted(people_dict.items(), key=lambda item: item[1]))\n",
    "\n",
    "sorted_people_dict"
   ]
  },
  {
   "cell_type": "code",
   "execution_count": null,
   "id": "23db842e-6c08-4217-9f20-cd56f508f350",
   "metadata": {},
   "outputs": [],
   "source": [
    "# Sort people_dict according to the age (second item in each item), descending order\n",
    "sorted_people_dict = dict(sorted(people_dict.items(), key=lambda item: -item[1]))\n",
    "\n",
    "sorted_people_dict"
   ]
  },
  {
   "cell_type": "markdown",
   "id": "d448c915-539b-4406-91d2-72dc5ba42116",
   "metadata": {
    "tags": []
   },
   "source": [
    "### Exercises: Spotify data\n",
    "\n",
    "Let's use some of my streaming data from Spotify and analyze it!\n",
    "\n",
    "The original format is JSON (we'll learn about this, basically its lists and dictionaries nested). We're gonna convert it into a pure dictionary with the following structure:\n",
    "\n",
    "```Python\n",
    "{..., \n",
    "    song_n:{\n",
    "        \"endTime\": endTime,\n",
    "        \"artistName\": artistName,\n",
    "        \"trackName\": trackName,\n",
    "        \"msPlayed\": msPlayed\n",
    "    },\n",
    "...}\n",
    "```"
   ]
  },
  {
   "cell_type": "code",
   "execution_count": null,
   "id": "7b8b5636-03f4-4710-9063-7259146e859d",
   "metadata": {},
   "outputs": [],
   "source": [
    "# we'll go through this in the next session, for now just follow the steps\n",
    "import json\n",
    "with open(\"spotify.json\") as json_file:\n",
    "    json_data = json.load(json_file)\n",
    "    \n",
    "# some preparation of the data\n",
    "spotify = {}\n",
    "\n",
    "for i, item in enumerate(json_data):\n",
    "    spotify[f\"song_{i}\"] = item"
   ]
  },
  {
   "cell_type": "markdown",
   "id": "478b9ade-eadd-462f-834a-1619ed9a7d21",
   "metadata": {},
   "source": [
    "1. How much time does this file span?"
   ]
  },
  {
   "cell_type": "code",
   "execution_count": null,
   "id": "1349b551-55e2-4181-84d5-1ae5b6e78df1",
   "metadata": {},
   "outputs": [],
   "source": []
  },
  {
   "cell_type": "markdown",
   "id": "cf5ae1b9-84c2-45c6-9c2e-04647df67e50",
   "metadata": {},
   "source": [
    "2. How many different artists I've listened to in that period?"
   ]
  },
  {
   "cell_type": "code",
   "execution_count": null,
   "id": "20207ad7-912a-43e0-8686-7d57431998ab",
   "metadata": {},
   "outputs": [],
   "source": []
  },
  {
   "cell_type": "markdown",
   "id": "e90dc55e-24dd-4a9e-9017-9f4d0a2df6bf",
   "metadata": {},
   "source": [
    "3. How many different songs I've listened to?"
   ]
  },
  {
   "cell_type": "code",
   "execution_count": null,
   "id": "a8464fef-5ae3-4955-9233-70e9767f7bdc",
   "metadata": {},
   "outputs": [],
   "source": []
  },
  {
   "cell_type": "markdown",
   "id": "6e847cff-fefc-474a-b4e0-582ae5b5abbd",
   "metadata": {},
   "source": [
    "4. How much time I've spent listening to music?"
   ]
  },
  {
   "cell_type": "code",
   "execution_count": null,
   "id": "765e0387-b355-45f8-8dd2-e1bb1ebbdb5c",
   "metadata": {},
   "outputs": [],
   "source": []
  },
  {
   "cell_type": "markdown",
   "id": "37092940-ba8f-4526-9425-103e3eb14f50",
   "metadata": {},
   "source": [
    "5. Most listened artist"
   ]
  },
  {
   "cell_type": "code",
   "execution_count": null,
   "id": "cd4c3ae8-8d6c-4e6b-a785-46a571cdcff4",
   "metadata": {
    "tags": []
   },
   "outputs": [],
   "source": []
  },
  {
   "cell_type": "markdown",
   "id": "8e87f67c-c09c-4261-ac5e-7fca48ec056b",
   "metadata": {},
   "source": [
    "6. Most listened song "
   ]
  },
  {
   "cell_type": "code",
   "execution_count": null,
   "id": "993dd13a-bb2f-45ed-aef7-f0a5eb5c827d",
   "metadata": {
    "tags": []
   },
   "outputs": [],
   "source": []
  }
 ],
 "metadata": {
  "kernelspec": {
   "display_name": "Python [conda env:ml2] *",
   "language": "python",
   "name": "conda-env-ml2-py"
  },
  "language_info": {
   "codemirror_mode": {
    "name": "ipython",
    "version": 3
   },
   "file_extension": ".py",
   "mimetype": "text/x-python",
   "name": "python",
   "nbconvert_exporter": "python",
   "pygments_lexer": "ipython3",
   "version": "3.8.12"
  }
 },
 "nbformat": 4,
 "nbformat_minor": 5
}
