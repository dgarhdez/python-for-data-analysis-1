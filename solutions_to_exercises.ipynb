{
 "cells": [
  {
   "cell_type": "markdown",
   "metadata": {},
   "source": [
    "# Solutions"
   ]
  },
  {
   "cell_type": "code",
   "execution_count": null,
   "metadata": {},
   "outputs": [],
   "source": []
  },
  {
   "cell_type": "markdown",
   "metadata": {
    "tags": []
   },
   "source": [
    "### Session 2: variables and types"
   ]
  },
  {
   "cell_type": "markdown",
   "metadata": {},
   "source": [
    "1. Perform the following calculation: result is 15168.443661658159\n",
    "\n",
    "    * $\\frac{4.156^{7.332} \\cdot \\sqrt{2.25}}{abs(4.35 / 1.28)}$"
   ]
  },
  {
   "cell_type": "code",
   "execution_count": 32,
   "metadata": {},
   "outputs": [
    {
     "data": {
      "text/plain": [
       "15168.443661658159"
      ]
     },
     "execution_count": 32,
     "metadata": {},
     "output_type": "execute_result"
    }
   ],
   "source": [
    "(4.156**7.332)*(2.25**0.5)/abs(4.35 / 1.28)"
   ]
  },
  {
   "cell_type": "markdown",
   "metadata": {},
   "source": [
    "2. What's the result of this operation?\n",
    "\n",
    "    * [(7 > 5) and (5 < 1)] or (8%3 == 2)"
   ]
  },
  {
   "cell_type": "code",
   "execution_count": 33,
   "metadata": {},
   "outputs": [
    {
     "name": "stdout",
     "output_type": "stream",
     "text": [
      "Wrong answer: [False]\n",
      "Right answer: True\n"
     ]
    }
   ],
   "source": [
    "# without replacing the square brackets [] by parentheses (): [True]\n",
    "\n",
    "wrong_answer = [(7 > 5) and (5 < 1)] or (8%3 == 2)\n",
    "\n",
    "# replacing the square brackets [] by parentheses (): correct solution\n",
    "\n",
    "right_answer = ((7 > 5) and (5 < 1)) or (8%3 == 2) \n",
    "\n",
    "print(f\"Wrong answer: {wrong_answer}\")\n",
    "print(f\"Right answer: {right_answer}\")"
   ]
  },
  {
   "cell_type": "markdown",
   "metadata": {},
   "source": [
    "3. Replace every vowel in your full name by `e`"
   ]
  },
  {
   "cell_type": "code",
   "execution_count": 36,
   "metadata": {},
   "outputs": [
    {
     "data": {
      "text/plain": [
       "'deneel'"
      ]
     },
     "execution_count": 36,
     "metadata": {},
     "output_type": "execute_result"
    }
   ],
   "source": [
    "\"daniel\".replace(\"a\", \"e\").replace(\"i\", \"e\")"
   ]
  },
  {
   "cell_type": "markdown",
   "metadata": {},
   "source": [
    "### Session 3: strings, lists, and tuples"
   ]
  },
  {
   "cell_type": "markdown",
   "metadata": {},
   "source": [
    "#### Exercises: strings."
   ]
  },
  {
   "cell_type": "markdown",
   "metadata": {},
   "source": [
    "1. Take \"ABCDEFG\" and add 7 `$` on each side"
   ]
  },
  {
   "cell_type": "code",
   "execution_count": 37,
   "metadata": {},
   "outputs": [
    {
     "data": {
      "text/plain": [
       "'$$$$$$$ABCDEFG$$$$$$$'"
      ]
     },
     "execution_count": 37,
     "metadata": {},
     "output_type": "execute_result"
    }
   ],
   "source": [
    "string_to_consider = \"ABCDEFG\"\n",
    "string_to_consider.rjust(len(string_to_consider) + 7, \"$\").ljust(len(string_to_consider) + 14, \"$\")"
   ]
  },
  {
   "cell_type": "markdown",
   "metadata": {},
   "source": [
    "2. Take \"Hola\" and add 5 `x` to the left and 11 `y` to the right"
   ]
  },
  {
   "cell_type": "code",
   "execution_count": 38,
   "metadata": {},
   "outputs": [
    {
     "data": {
      "text/plain": [
       "'xxxxxHolayyyyyyyyyyy'"
      ]
     },
     "execution_count": 38,
     "metadata": {},
     "output_type": "execute_result"
    }
   ],
   "source": [
    "string_hola = \"Hola\"\n",
    "string_hola.rjust(len(string_hola) + 5, \"x\").ljust(len(string_hola) + 16, \"y\")"
   ]
  },
  {
   "cell_type": "markdown",
   "metadata": {},
   "source": [
    "3. Save your Name and last name(s) as independent strings, and then build your full name using them."
   ]
  },
  {
   "cell_type": "code",
   "execution_count": 39,
   "metadata": {},
   "outputs": [
    {
     "name": "stdout",
     "output_type": "stream",
     "text": [
      "daniel garcia hernandez\n",
      "daniel garcia hernandez\n",
      "daniel garcia hernandez\n"
     ]
    }
   ],
   "source": [
    "name = \"daniel\"\n",
    "last_name_1 = \"garcia\"\n",
    "last_name_2 = \"hernandez\"\n",
    "\n",
    "full_name = \"daniel\" + \" \" + \"garcia\" + \" \" + \"hernandez\"\n",
    "full_name_1 = f\"{name} {last_name_1} {last_name_2}\"\n",
    "\n",
    "# another formatting way for strings\n",
    "full_name_2 = \"{0} {1} {2}\".format(name, last_name_1, last_name_2)\n",
    "\n",
    "# print\n",
    "print(full_name)\n",
    "print(full_name_1)\n",
    "print(full_name_2)"
   ]
  },
  {
   "cell_type": "markdown",
   "metadata": {},
   "source": [
    "4. Create the variables name, age, nationality, store your information on them, and include them in a string that a human can understand."
   ]
  },
  {
   "cell_type": "code",
   "execution_count": 40,
   "metadata": {},
   "outputs": [
    {
     "data": {
      "text/plain": [
       "\"Hi, my name is daniel, I'm 33 and I am spanish!\""
      ]
     },
     "execution_count": 40,
     "metadata": {},
     "output_type": "execute_result"
    }
   ],
   "source": [
    "name = \"daniel\"\n",
    "age = 33\n",
    "nationality = \"spanish\"\n",
    "\n",
    "f\"Hi, my name is {name}, I'm {age} and I am {nationality}!\""
   ]
  },
  {
   "cell_type": "markdown",
   "metadata": {},
   "source": [
    "#### Exercises: lists and tuples"
   ]
  },
  {
   "cell_type": "markdown",
   "metadata": {},
   "source": [
    "1. Build a list containing all the letters in the alphabet: [\"a\", \"b\", \"c\", ..., \"z\"]"
   ]
  },
  {
   "cell_type": "code",
   "execution_count": 47,
   "metadata": {},
   "outputs": [
    {
     "data": {
      "text/plain": [
       "['a',\n",
       " 'b',\n",
       " 'c',\n",
       " 'd',\n",
       " 'e',\n",
       " 'f',\n",
       " 'g',\n",
       " 'h',\n",
       " 'i',\n",
       " 'j',\n",
       " 'k',\n",
       " 'l',\n",
       " 'm',\n",
       " 'n',\n",
       " 'o',\n",
       " 'p',\n",
       " 'q',\n",
       " 'r',\n",
       " 's',\n",
       " 't',\n",
       " 'u',\n",
       " 'v',\n",
       " 'w',\n",
       " 'x',\n",
       " 'y',\n",
       " 'z']"
      ]
     },
     "execution_count": 47,
     "metadata": {},
     "output_type": "execute_result"
    }
   ],
   "source": [
    "alphabet_list = list(\"abcdefghijklmnopqrstuvwxyz\")\n",
    "alphabet_list"
   ]
  },
  {
   "cell_type": "markdown",
   "metadata": {},
   "source": [
    "2. Build a list containing all the letter in the alphabet backwards: [\"z\", \"y\", ..., \"a\"]"
   ]
  },
  {
   "cell_type": "code",
   "execution_count": 42,
   "metadata": {},
   "outputs": [
    {
     "data": {
      "text/plain": [
       "['z',\n",
       " 'y',\n",
       " 'x',\n",
       " 'w',\n",
       " 'v',\n",
       " 'u',\n",
       " 't',\n",
       " 's',\n",
       " 'r',\n",
       " 'q',\n",
       " 'p',\n",
       " 'o',\n",
       " 'n',\n",
       " 'm',\n",
       " 'l',\n",
       " 'k',\n",
       " 'j',\n",
       " 'i',\n",
       " 'h',\n",
       " 'g',\n",
       " 'f',\n",
       " 'e',\n",
       " 'd',\n",
       " 'c',\n",
       " 'b',\n",
       " 'a']"
      ]
     },
     "execution_count": 42,
     "metadata": {},
     "output_type": "execute_result"
    }
   ],
   "source": [
    "alphabet_list_reverse = alphabet_list[::-1]\n",
    "alphabet_list_reverse"
   ]
  },
  {
   "cell_type": "markdown",
   "metadata": {},
   "source": [
    "3. Build a list containing every second letter in the alphabet backwards: [\"z\", \"x\", ..., \"b\"]"
   ]
  },
  {
   "cell_type": "code",
   "execution_count": 43,
   "metadata": {},
   "outputs": [
    {
     "data": {
      "text/plain": [
       "['z', 'x', 'v', 't', 'r', 'p', 'n', 'l', 'j', 'h', 'f', 'd', 'b']"
      ]
     },
     "execution_count": 43,
     "metadata": {},
     "output_type": "execute_result"
    }
   ],
   "source": [
    "alphabet_list[::-2]"
   ]
  },
  {
   "cell_type": "markdown",
   "metadata": {},
   "source": [
    "4. Build a list with all the vowels, another containing all the consonants. Build a list containing alphabet using them, in alphabetic order!"
   ]
  },
  {
   "cell_type": "code",
   "execution_count": 48,
   "metadata": {},
   "outputs": [
    {
     "name": "stdout",
     "output_type": "stream",
     "text": [
      "messy:  ['a', 'e', 'i', 'o', 'u', 'b', 'c', 'd', 'f', 'g', 'h', 'j', 'k', 'l', 'm', 'n', 'p', 'q', 'r', 't', 'v', 'w', 'x', 'y', 'z']\n",
      "sorted:  ['a', 'b', 'c', 'd', 'e', 'f', 'g', 'h', 'i', 'j', 'k', 'l', 'm', 'n', 'o', 'p', 'q', 'r', 't', 'u', 'v', 'w', 'x', 'y', 'z']\n"
     ]
    }
   ],
   "source": [
    "vowels = list(\"aeiou\")\n",
    "consonants = list(\"bcdfghjklmnpqrtvwxyz\")\n",
    "\n",
    "alphabet_messy = vowels + consonants\n",
    "\n",
    "print(\"messy: \", alphabet_messy)\n",
    "\n",
    "alphabet_messy.sort()\n",
    "\n",
    "print(\"sorted: \", alphabet_messy)"
   ]
  },
  {
   "cell_type": "markdown",
   "metadata": {},
   "source": [
    "5. If a=1, b=2, and so on, how much do the letters in my name add up to? Who has the heaviest name? And the lightest? "
   ]
  },
  {
   "cell_type": "code",
   "execution_count": null,
   "metadata": {},
   "outputs": [],
   "source": [
    "alphabet = \"abcdefghijklmnopqrstuvwxyz\"\n",
    "\n",
    "name_value = (\n",
    "    alphabet.index(\"d\") + \n",
    "    alphabet.index(\"a\") + \n",
    "    alphabet.index(\"n\") + \n",
    "    alphabet.index(\"i\") + \n",
    "    alphabet.index(\"e\") + \n",
    "    alphabet.index(\"l\")\n",
    ")\n",
    "\n",
    "print(name_value)"
   ]
  }
 ],
 "metadata": {
  "kernelspec": {
   "display_name": "Python [conda env:ml2] *",
   "language": "python",
   "name": "conda-env-ml2-py"
  },
  "language_info": {
   "codemirror_mode": {
    "name": "ipython",
    "version": 3
   },
   "file_extension": ".py",
   "mimetype": "text/x-python",
   "name": "python",
   "nbconvert_exporter": "python",
   "pygments_lexer": "ipython3",
   "version": "3.8.5"
  }
 },
 "nbformat": 4,
 "nbformat_minor": 4
}
